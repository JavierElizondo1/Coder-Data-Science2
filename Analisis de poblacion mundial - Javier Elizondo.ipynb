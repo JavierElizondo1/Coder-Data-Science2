{
  "nbformat": 4,
  "nbformat_minor": 0,
  "metadata": {
    "colab": {
      "provenance": [],
      "authorship_tag": "ABX9TyPlBRvUP4v05i7mJm1KFHzO",
      "include_colab_link": true
    },
    "kernelspec": {
      "name": "python3",
      "display_name": "Python 3"
    },
    "language_info": {
      "name": "python"
    }
  },
  "cells": [
    {
      "cell_type": "markdown",
      "metadata": {
        "id": "view-in-github",
        "colab_type": "text"
      },
      "source": [
        "<a href=\"https://colab.research.google.com/github/JavierElizondo1/Coder-Data-Science2/blob/main/Analisis%20de%20poblacion%20mundial%20-%20Javier%20Elizondo.ipynb\" target=\"_parent\"><img src=\"https://colab.research.google.com/assets/colab-badge.svg\" alt=\"Open In Colab\"/></a>"
      ]
    },
    {
      "cell_type": "markdown",
      "source": [
        "#                                                         **Análisis de población mundial**"
      ],
      "metadata": {
        "id": "DZBZd8oTi0uW"
      }
    },
    {
      "cell_type": "markdown",
      "source": [
        "El estudio del crecimiento de la población mundial es un área crítica para comprender las dinámicas demográficas y sus implicaciones globales en aspectos económicos, sociales y ambientales.\n",
        "\n",
        "Este dataset ofrece una visión detallada de la evolución poblacional global desde el siglo XX, desglosando el crecimiento por regiones y países, con un enfoque en las últimas décadas.\n",
        "\n",
        "# **Motivación**\n",
        "El crecimiento poblacional ha sido uno de los motores principales del cambio global, afectando la distribución de los recursos, el desarrollo económico, la migración y las políticas públicas.\n",
        "\n",
        "Con el acelerado aumento en ciertas regiones, junto con la estabilización o declive en otras, este análisis es fundamental para prever los desafíos futuros relacionados con la sostenibilidad, la urbanización, la seguridad alimentaria y el cambio climático.\n",
        "\n",
        "# **Audiencia**\n",
        "Este dataset está dirigido a una audiencia diversa, que incluye:\n",
        "\n",
        "* **Investigadores y demógrafos** interesados en analizar patrones y tendencias\n",
        "poblacionales a nivel global y regional.\n",
        "\n",
        "\n",
        "* **Economistas y planificadores** urbanos que necesitan datos para evaluar el impacto del crecimiento poblacional sobre el desarrollo económico y la infraestructura.\n",
        "\n",
        "\n",
        "* **Políticos y responsables de políticas públicas**, para quienes esta información es clave en la formulación de estrategias de sostenibilidad, educación, y sanidad.\n",
        "\n",
        "\n",
        "* **ONGs y organizaciones internacionales** que trabajan en áreas de desarrollo global, medioambiente y planificación a largo plazo.\n",
        "\n",
        "\n",
        "* **Estudiantes y académicos** que buscan una base sólida de datos para realizar estudios y proyectos relacionados con la dinámica poblacional.\n",
        "\n",
        "\n",
        "Este recurso es esencial para aquellos que buscan comprender cómo la evolución de la población global afecta el futuro de las sociedades y su interacción con el entorno global."
      ],
      "metadata": {
        "id": "5uAa5SuTi96Y"
      }
    },
    {
      "cell_type": "markdown",
      "source": [
        "# Importar librerias"
      ],
      "metadata": {
        "id": "WOjNQZvikOXm"
      }
    },
    {
      "cell_type": "code",
      "source": [
        "import numpy as np\n",
        "import pandas as pd\n",
        "import seaborn as sns\n",
        "from plotly.subplots import make_subplots\n",
        "import matplotlib.pyplot as plt\n",
        "import plotly.express as px\n",
        "import missingno as msno\n",
        "import plotly.offline as py\n",
        "py.init_notebook_mode(connected=True)\n",
        "\n",
        "import os\n",
        "from wordcloud import WordCloud\n",
        "\n",
        "import warnings\n",
        "warnings.filterwarnings('ignore')"
      ],
      "metadata": {
        "colab": {
          "base_uri": "https://localhost:8080/",
          "height": 17
        },
        "id": "MtjgsHrGkXmw",
        "outputId": "39e687ef-e14d-49ea-c387-cdf3d65eca7d"
      },
      "execution_count": 60,
      "outputs": [
        {
          "output_type": "display_data",
          "data": {
            "text/html": [
              "        <script type=\"text/javascript\">\n",
              "        window.PlotlyConfig = {MathJaxConfig: 'local'};\n",
              "        if (window.MathJax && window.MathJax.Hub && window.MathJax.Hub.Config) {window.MathJax.Hub.Config({SVG: {font: \"STIX-Web\"}});}\n",
              "        if (typeof require !== 'undefined') {\n",
              "        require.undef(\"plotly\");\n",
              "        requirejs.config({\n",
              "            paths: {\n",
              "                'plotly': ['https://cdn.plot.ly/plotly-2.24.1.min']\n",
              "            }\n",
              "        });\n",
              "        require(['plotly'], function(Plotly) {\n",
              "            window._Plotly = Plotly;\n",
              "        });\n",
              "        }\n",
              "        </script>\n",
              "        "
            ]
          },
          "metadata": {}
        }
      ]
    },
    {
      "cell_type": "markdown",
      "source": [
        "# Acerca del dataset"
      ],
      "metadata": {
        "id": "XckBPyxYkhE-"
      }
    },
    {
      "cell_type": "markdown",
      "source": [
        "- **Rank:** Clasificación por población  \n",
        "- **CCA3:** Código de 3 dígitos del país/territorios  \n",
        "- **Country/territory:** Nombre del país/territorios  \n",
        "- **Capital:** Nombre de la capital  \n",
        "- **Continent:** Nombre del continente  \n",
        "- **2022 population:** Población del país/territorios en el año 2022  \n",
        "- **2020 population:** Población del país/territorios en el año 2020  \n",
        "- **Cre.2020VS1970:** Crecimiento poblacional entre 2 decadas\n",
        "- **2015 population:** Población del país/territorios en el año 2015  \n",
        "- **2010 population:** Población del país/territorios en el año 2010\n",
        "- **Cre.2010VS2000:** Crecimiento poblacional entre 2 decadas  \n",
        "- **2000 population:** Población del país/territorios en el año 2000\n",
        "- **Cre.2000VS1990:** Crecimiento poblacional entre 2 decadas   \n",
        "- **1990 population:** Población del país/territorios en el año 1990\n",
        "- **Cre.1990VS1980:** Crecimiento poblacional entre 2 decadas    \n",
        "- **1980 population:** Población del país/territorios en el año 1980  \n",
        "- **Cre.1980VS1970:** Crecimiento poblacional entre 2 decadas    \n",
        "- **1990 population:** Población del país/territorios en el año 1970  \n",
        "- **Área (km²):** Tamaño del área del país/territorios en kilómetros cuadrados  \n",
        "- **Density (per km²):** Densidad de población por kilómetro cuadrado  \n",
        "- **Growth Rate:** Tasa de crecimiento poblacional por país/territorios  \n",
        "- **World Population Percentage:** Porcentaje de la población de cada país/territorio"
      ],
      "metadata": {
        "id": "hV_q6lTlknIC"
      }
    },
    {
      "cell_type": "code",
      "source": [
        "df = pd.read_csv(\"/content/world_populationWDELTASV1.csv\")"
      ],
      "metadata": {
        "id": "yRk_gm1dk1-E"
      },
      "execution_count": 113,
      "outputs": []
    },
    {
      "cell_type": "markdown",
      "source": [
        "# Exploración basica"
      ],
      "metadata": {
        "id": "rJWa0-J3lBnk"
      }
    },
    {
      "cell_type": "code",
      "source": [
        "df.shape\n"
      ],
      "metadata": {
        "colab": {
          "base_uri": "https://localhost:8080/"
        },
        "id": "FY0zE_OcmGp7",
        "outputId": "3db63615-4522-4cd0-9e0b-8c2ba356546d"
      },
      "execution_count": 114,
      "outputs": [
        {
          "output_type": "execute_result",
          "data": {
            "text/plain": [
              "(234, 25)"
            ]
          },
          "metadata": {},
          "execution_count": 114
        }
      ]
    },
    {
      "cell_type": "code",
      "source": [
        "df.head(15)\n"
      ],
      "metadata": {
        "colab": {
          "base_uri": "https://localhost:8080/",
          "height": 673
        },
        "id": "AW6-6bIkpcij",
        "outputId": "74ce5895-ceae-4716-dbb7-5211fe5e7d14"
      },
      "execution_count": 115,
      "outputs": [
        {
          "output_type": "execute_result",
          "data": {
            "text/plain": [
              "    Rank CCA3    Country/Territory           Capital Continent  \\\n",
              "0     36  AFG          Afghanistan             Kabul      Asia   \n",
              "1    138  ALB              Albania            Tirana    Europe   \n",
              "2     34  DZA              Algeria           Algiers    Africa   \n",
              "3    213  ASM       American Samoa         Pago Pago   Oceania   \n",
              "4    203  AND              Andorra  Andorra la Vella    Europe   \n",
              "5     42  AGO               Angola            Luanda    Africa   \n",
              "6    224  AIA             Anguilla        The Valley   America   \n",
              "7    201  ATG  Antigua and Barbuda      Saint John’s   America   \n",
              "8     33  ARG            Argentina      Buenos Aires   America   \n",
              "9    140  ARM              Armenia           Yerevan      Asia   \n",
              "10   198  ABW                Aruba        Oranjestad   America   \n",
              "11    55  AUS            Australia          Canberra   Oceania   \n",
              "12    99  AUT              Austria            Vienna    Europe   \n",
              "13    91  AZE           Azerbaijan              Baku      Asia   \n",
              "14   176  BHS              Bahamas            Nassau   America   \n",
              "\n",
              "    2022 Population  2020 Population  Cre.2020VS1970  Cre.2020VS2010  \\\n",
              "0          41128771         38972230        3.624322        1.382500   \n",
              "1           2842321          2866849        1.233196        0.984022   \n",
              "2          44903225         43451666        3.149604        1.211826   \n",
              "3             44273            46189        1.705965        0.842112   \n",
              "4             79824            77700        3.912387        1.086425   \n",
              "5          35588987         33428485        5.543972        1.430758   \n",
              "6             15857            15585        2.480503        1.183192   \n",
              "7             93763            92664        1.436295        1.081323   \n",
              "8          45510318         45036032        1.888873        1.095764   \n",
              "9           2780469          2805608        1.107021        0.952250   \n",
              "10           106445           106585        1.803286        1.062228   \n",
              "11         26177413         25670051        2.038109        1.165805   \n",
              "12          8939617          8907777        1.193224        1.065163   \n",
              "13         10358074         10284951        1.895733        1.113427   \n",
              "14           409984           406471        2.269152        1.088941   \n",
              "\n",
              "    Cre.2020VS2015  ...  2000vs1990  1990 Population  1990vs1980  \\\n",
              "0         1.154613  ...    1.827336         10694796    0.856500   \n",
              "1         0.994577  ...    0.965693          3295066    1.120142   \n",
              "2         1.098842  ...    1.205993         25518074    1.361735   \n",
              "3         0.899178  ...    1.217742            47818    1.454053   \n",
              "4         1.082987  ...    1.233867            53569    1.504282   \n",
              "5         1.188453  ...    1.385964         11828638    1.419997   \n",
              "6         1.072978  ...    1.328403             8316    1.267683   \n",
              "7         1.030275  ...    1.185179            63328    0.975959   \n",
              "8         1.041125  ...    1.135828         32637657    1.164599   \n",
              "9         0.974645  ...    0.890901          3556539    1.134418   \n",
              "10        1.022329  ...    1.355932            65712    1.055326   \n",
              "11        1.077657  ...    1.115554         17048003    1.159230   \n",
              "12        1.030704  ...    1.043197          7678729    1.017379   \n",
              "13        1.042730  ...    1.102655          7427836    1.163679   \n",
              "14        1.035075  ...    1.200736           270679    1.209728   \n",
              "\n",
              "    1980 Population  1980vs1970  1970 Population  Area (km²)  \\\n",
              "0          12486631    1.161226         10752971      652230   \n",
              "1           2941651    1.265373          2324731       28748   \n",
              "2          18739378    1.358328         13795915     2381741   \n",
              "3             32886    1.214626            27075         199   \n",
              "4             35611    1.793102            19860         468   \n",
              "5           8330047    1.381503          6029700     1246700   \n",
              "6              6560    1.044087             6283          91   \n",
              "7             64888    1.005766            64516         442   \n",
              "8          28024803    1.175399         23842803     2780400   \n",
              "9           3135123    1.237039          2534377       29743   \n",
              "10            62267    1.053480            59106         180   \n",
              "11         14706322    1.167629         12595034     7692024   \n",
              "12          7547561    1.011019          7465301       83871   \n",
              "13          6383060    1.176532          5425317       86600   \n",
              "14           223752    1.249111           179129       13943   \n",
              "\n",
              "    Density (per km²)  Growth Rate  World Population Percentage  \n",
              "0             63.0587       1.0257                         0.52  \n",
              "1             98.8702       0.9957                         0.04  \n",
              "2             18.8531       1.0164                         0.56  \n",
              "3            222.4774       0.9831                         0.00  \n",
              "4            170.5641       1.0100                         0.00  \n",
              "5             28.5466       1.0315                         0.45  \n",
              "6            174.2527       1.0066                         0.00  \n",
              "7            212.1335       1.0058                         0.00  \n",
              "8             16.3683       1.0052                         0.57  \n",
              "9             93.4831       0.9962                         0.03  \n",
              "10           591.3611       0.9991                         0.00  \n",
              "11             3.4032       1.0099                         0.33  \n",
              "12           106.5877       1.0020                         0.11  \n",
              "13           119.6082       1.0044                         0.13  \n",
              "14            29.4043       1.0051                         0.01  \n",
              "\n",
              "[15 rows x 25 columns]"
            ],
            "text/html": [
              "\n",
              "  <div id=\"df-8307ca05-6a48-49c8-8718-37119d985a02\" class=\"colab-df-container\">\n",
              "    <div>\n",
              "<style scoped>\n",
              "    .dataframe tbody tr th:only-of-type {\n",
              "        vertical-align: middle;\n",
              "    }\n",
              "\n",
              "    .dataframe tbody tr th {\n",
              "        vertical-align: top;\n",
              "    }\n",
              "\n",
              "    .dataframe thead th {\n",
              "        text-align: right;\n",
              "    }\n",
              "</style>\n",
              "<table border=\"1\" class=\"dataframe\">\n",
              "  <thead>\n",
              "    <tr style=\"text-align: right;\">\n",
              "      <th></th>\n",
              "      <th>Rank</th>\n",
              "      <th>CCA3</th>\n",
              "      <th>Country/Territory</th>\n",
              "      <th>Capital</th>\n",
              "      <th>Continent</th>\n",
              "      <th>2022 Population</th>\n",
              "      <th>2020 Population</th>\n",
              "      <th>Cre.2020VS1970</th>\n",
              "      <th>Cre.2020VS2010</th>\n",
              "      <th>Cre.2020VS2015</th>\n",
              "      <th>...</th>\n",
              "      <th>2000vs1990</th>\n",
              "      <th>1990 Population</th>\n",
              "      <th>1990vs1980</th>\n",
              "      <th>1980 Population</th>\n",
              "      <th>1980vs1970</th>\n",
              "      <th>1970 Population</th>\n",
              "      <th>Area (km²)</th>\n",
              "      <th>Density (per km²)</th>\n",
              "      <th>Growth Rate</th>\n",
              "      <th>World Population Percentage</th>\n",
              "    </tr>\n",
              "  </thead>\n",
              "  <tbody>\n",
              "    <tr>\n",
              "      <th>0</th>\n",
              "      <td>36</td>\n",
              "      <td>AFG</td>\n",
              "      <td>Afghanistan</td>\n",
              "      <td>Kabul</td>\n",
              "      <td>Asia</td>\n",
              "      <td>41128771</td>\n",
              "      <td>38972230</td>\n",
              "      <td>3.624322</td>\n",
              "      <td>1.382500</td>\n",
              "      <td>1.154613</td>\n",
              "      <td>...</td>\n",
              "      <td>1.827336</td>\n",
              "      <td>10694796</td>\n",
              "      <td>0.856500</td>\n",
              "      <td>12486631</td>\n",
              "      <td>1.161226</td>\n",
              "      <td>10752971</td>\n",
              "      <td>652230</td>\n",
              "      <td>63.0587</td>\n",
              "      <td>1.0257</td>\n",
              "      <td>0.52</td>\n",
              "    </tr>\n",
              "    <tr>\n",
              "      <th>1</th>\n",
              "      <td>138</td>\n",
              "      <td>ALB</td>\n",
              "      <td>Albania</td>\n",
              "      <td>Tirana</td>\n",
              "      <td>Europe</td>\n",
              "      <td>2842321</td>\n",
              "      <td>2866849</td>\n",
              "      <td>1.233196</td>\n",
              "      <td>0.984022</td>\n",
              "      <td>0.994577</td>\n",
              "      <td>...</td>\n",
              "      <td>0.965693</td>\n",
              "      <td>3295066</td>\n",
              "      <td>1.120142</td>\n",
              "      <td>2941651</td>\n",
              "      <td>1.265373</td>\n",
              "      <td>2324731</td>\n",
              "      <td>28748</td>\n",
              "      <td>98.8702</td>\n",
              "      <td>0.9957</td>\n",
              "      <td>0.04</td>\n",
              "    </tr>\n",
              "    <tr>\n",
              "      <th>2</th>\n",
              "      <td>34</td>\n",
              "      <td>DZA</td>\n",
              "      <td>Algeria</td>\n",
              "      <td>Algiers</td>\n",
              "      <td>Africa</td>\n",
              "      <td>44903225</td>\n",
              "      <td>43451666</td>\n",
              "      <td>3.149604</td>\n",
              "      <td>1.211826</td>\n",
              "      <td>1.098842</td>\n",
              "      <td>...</td>\n",
              "      <td>1.205993</td>\n",
              "      <td>25518074</td>\n",
              "      <td>1.361735</td>\n",
              "      <td>18739378</td>\n",
              "      <td>1.358328</td>\n",
              "      <td>13795915</td>\n",
              "      <td>2381741</td>\n",
              "      <td>18.8531</td>\n",
              "      <td>1.0164</td>\n",
              "      <td>0.56</td>\n",
              "    </tr>\n",
              "    <tr>\n",
              "      <th>3</th>\n",
              "      <td>213</td>\n",
              "      <td>ASM</td>\n",
              "      <td>American Samoa</td>\n",
              "      <td>Pago Pago</td>\n",
              "      <td>Oceania</td>\n",
              "      <td>44273</td>\n",
              "      <td>46189</td>\n",
              "      <td>1.705965</td>\n",
              "      <td>0.842112</td>\n",
              "      <td>0.899178</td>\n",
              "      <td>...</td>\n",
              "      <td>1.217742</td>\n",
              "      <td>47818</td>\n",
              "      <td>1.454053</td>\n",
              "      <td>32886</td>\n",
              "      <td>1.214626</td>\n",
              "      <td>27075</td>\n",
              "      <td>199</td>\n",
              "      <td>222.4774</td>\n",
              "      <td>0.9831</td>\n",
              "      <td>0.00</td>\n",
              "    </tr>\n",
              "    <tr>\n",
              "      <th>4</th>\n",
              "      <td>203</td>\n",
              "      <td>AND</td>\n",
              "      <td>Andorra</td>\n",
              "      <td>Andorra la Vella</td>\n",
              "      <td>Europe</td>\n",
              "      <td>79824</td>\n",
              "      <td>77700</td>\n",
              "      <td>3.912387</td>\n",
              "      <td>1.086425</td>\n",
              "      <td>1.082987</td>\n",
              "      <td>...</td>\n",
              "      <td>1.233867</td>\n",
              "      <td>53569</td>\n",
              "      <td>1.504282</td>\n",
              "      <td>35611</td>\n",
              "      <td>1.793102</td>\n",
              "      <td>19860</td>\n",
              "      <td>468</td>\n",
              "      <td>170.5641</td>\n",
              "      <td>1.0100</td>\n",
              "      <td>0.00</td>\n",
              "    </tr>\n",
              "    <tr>\n",
              "      <th>5</th>\n",
              "      <td>42</td>\n",
              "      <td>AGO</td>\n",
              "      <td>Angola</td>\n",
              "      <td>Luanda</td>\n",
              "      <td>Africa</td>\n",
              "      <td>35588987</td>\n",
              "      <td>33428485</td>\n",
              "      <td>5.543972</td>\n",
              "      <td>1.430758</td>\n",
              "      <td>1.188453</td>\n",
              "      <td>...</td>\n",
              "      <td>1.385964</td>\n",
              "      <td>11828638</td>\n",
              "      <td>1.419997</td>\n",
              "      <td>8330047</td>\n",
              "      <td>1.381503</td>\n",
              "      <td>6029700</td>\n",
              "      <td>1246700</td>\n",
              "      <td>28.5466</td>\n",
              "      <td>1.0315</td>\n",
              "      <td>0.45</td>\n",
              "    </tr>\n",
              "    <tr>\n",
              "      <th>6</th>\n",
              "      <td>224</td>\n",
              "      <td>AIA</td>\n",
              "      <td>Anguilla</td>\n",
              "      <td>The Valley</td>\n",
              "      <td>America</td>\n",
              "      <td>15857</td>\n",
              "      <td>15585</td>\n",
              "      <td>2.480503</td>\n",
              "      <td>1.183192</td>\n",
              "      <td>1.072978</td>\n",
              "      <td>...</td>\n",
              "      <td>1.328403</td>\n",
              "      <td>8316</td>\n",
              "      <td>1.267683</td>\n",
              "      <td>6560</td>\n",
              "      <td>1.044087</td>\n",
              "      <td>6283</td>\n",
              "      <td>91</td>\n",
              "      <td>174.2527</td>\n",
              "      <td>1.0066</td>\n",
              "      <td>0.00</td>\n",
              "    </tr>\n",
              "    <tr>\n",
              "      <th>7</th>\n",
              "      <td>201</td>\n",
              "      <td>ATG</td>\n",
              "      <td>Antigua and Barbuda</td>\n",
              "      <td>Saint John’s</td>\n",
              "      <td>America</td>\n",
              "      <td>93763</td>\n",
              "      <td>92664</td>\n",
              "      <td>1.436295</td>\n",
              "      <td>1.081323</td>\n",
              "      <td>1.030275</td>\n",
              "      <td>...</td>\n",
              "      <td>1.185179</td>\n",
              "      <td>63328</td>\n",
              "      <td>0.975959</td>\n",
              "      <td>64888</td>\n",
              "      <td>1.005766</td>\n",
              "      <td>64516</td>\n",
              "      <td>442</td>\n",
              "      <td>212.1335</td>\n",
              "      <td>1.0058</td>\n",
              "      <td>0.00</td>\n",
              "    </tr>\n",
              "    <tr>\n",
              "      <th>8</th>\n",
              "      <td>33</td>\n",
              "      <td>ARG</td>\n",
              "      <td>Argentina</td>\n",
              "      <td>Buenos Aires</td>\n",
              "      <td>America</td>\n",
              "      <td>45510318</td>\n",
              "      <td>45036032</td>\n",
              "      <td>1.888873</td>\n",
              "      <td>1.095764</td>\n",
              "      <td>1.041125</td>\n",
              "      <td>...</td>\n",
              "      <td>1.135828</td>\n",
              "      <td>32637657</td>\n",
              "      <td>1.164599</td>\n",
              "      <td>28024803</td>\n",
              "      <td>1.175399</td>\n",
              "      <td>23842803</td>\n",
              "      <td>2780400</td>\n",
              "      <td>16.3683</td>\n",
              "      <td>1.0052</td>\n",
              "      <td>0.57</td>\n",
              "    </tr>\n",
              "    <tr>\n",
              "      <th>9</th>\n",
              "      <td>140</td>\n",
              "      <td>ARM</td>\n",
              "      <td>Armenia</td>\n",
              "      <td>Yerevan</td>\n",
              "      <td>Asia</td>\n",
              "      <td>2780469</td>\n",
              "      <td>2805608</td>\n",
              "      <td>1.107021</td>\n",
              "      <td>0.952250</td>\n",
              "      <td>0.974645</td>\n",
              "      <td>...</td>\n",
              "      <td>0.890901</td>\n",
              "      <td>3556539</td>\n",
              "      <td>1.134418</td>\n",
              "      <td>3135123</td>\n",
              "      <td>1.237039</td>\n",
              "      <td>2534377</td>\n",
              "      <td>29743</td>\n",
              "      <td>93.4831</td>\n",
              "      <td>0.9962</td>\n",
              "      <td>0.03</td>\n",
              "    </tr>\n",
              "    <tr>\n",
              "      <th>10</th>\n",
              "      <td>198</td>\n",
              "      <td>ABW</td>\n",
              "      <td>Aruba</td>\n",
              "      <td>Oranjestad</td>\n",
              "      <td>America</td>\n",
              "      <td>106445</td>\n",
              "      <td>106585</td>\n",
              "      <td>1.803286</td>\n",
              "      <td>1.062228</td>\n",
              "      <td>1.022329</td>\n",
              "      <td>...</td>\n",
              "      <td>1.355932</td>\n",
              "      <td>65712</td>\n",
              "      <td>1.055326</td>\n",
              "      <td>62267</td>\n",
              "      <td>1.053480</td>\n",
              "      <td>59106</td>\n",
              "      <td>180</td>\n",
              "      <td>591.3611</td>\n",
              "      <td>0.9991</td>\n",
              "      <td>0.00</td>\n",
              "    </tr>\n",
              "    <tr>\n",
              "      <th>11</th>\n",
              "      <td>55</td>\n",
              "      <td>AUS</td>\n",
              "      <td>Australia</td>\n",
              "      <td>Canberra</td>\n",
              "      <td>Oceania</td>\n",
              "      <td>26177413</td>\n",
              "      <td>25670051</td>\n",
              "      <td>2.038109</td>\n",
              "      <td>1.165805</td>\n",
              "      <td>1.077657</td>\n",
              "      <td>...</td>\n",
              "      <td>1.115554</td>\n",
              "      <td>17048003</td>\n",
              "      <td>1.159230</td>\n",
              "      <td>14706322</td>\n",
              "      <td>1.167629</td>\n",
              "      <td>12595034</td>\n",
              "      <td>7692024</td>\n",
              "      <td>3.4032</td>\n",
              "      <td>1.0099</td>\n",
              "      <td>0.33</td>\n",
              "    </tr>\n",
              "    <tr>\n",
              "      <th>12</th>\n",
              "      <td>99</td>\n",
              "      <td>AUT</td>\n",
              "      <td>Austria</td>\n",
              "      <td>Vienna</td>\n",
              "      <td>Europe</td>\n",
              "      <td>8939617</td>\n",
              "      <td>8907777</td>\n",
              "      <td>1.193224</td>\n",
              "      <td>1.065163</td>\n",
              "      <td>1.030704</td>\n",
              "      <td>...</td>\n",
              "      <td>1.043197</td>\n",
              "      <td>7678729</td>\n",
              "      <td>1.017379</td>\n",
              "      <td>7547561</td>\n",
              "      <td>1.011019</td>\n",
              "      <td>7465301</td>\n",
              "      <td>83871</td>\n",
              "      <td>106.5877</td>\n",
              "      <td>1.0020</td>\n",
              "      <td>0.11</td>\n",
              "    </tr>\n",
              "    <tr>\n",
              "      <th>13</th>\n",
              "      <td>91</td>\n",
              "      <td>AZE</td>\n",
              "      <td>Azerbaijan</td>\n",
              "      <td>Baku</td>\n",
              "      <td>Asia</td>\n",
              "      <td>10358074</td>\n",
              "      <td>10284951</td>\n",
              "      <td>1.895733</td>\n",
              "      <td>1.113427</td>\n",
              "      <td>1.042730</td>\n",
              "      <td>...</td>\n",
              "      <td>1.102655</td>\n",
              "      <td>7427836</td>\n",
              "      <td>1.163679</td>\n",
              "      <td>6383060</td>\n",
              "      <td>1.176532</td>\n",
              "      <td>5425317</td>\n",
              "      <td>86600</td>\n",
              "      <td>119.6082</td>\n",
              "      <td>1.0044</td>\n",
              "      <td>0.13</td>\n",
              "    </tr>\n",
              "    <tr>\n",
              "      <th>14</th>\n",
              "      <td>176</td>\n",
              "      <td>BHS</td>\n",
              "      <td>Bahamas</td>\n",
              "      <td>Nassau</td>\n",
              "      <td>America</td>\n",
              "      <td>409984</td>\n",
              "      <td>406471</td>\n",
              "      <td>2.269152</td>\n",
              "      <td>1.088941</td>\n",
              "      <td>1.035075</td>\n",
              "      <td>...</td>\n",
              "      <td>1.200736</td>\n",
              "      <td>270679</td>\n",
              "      <td>1.209728</td>\n",
              "      <td>223752</td>\n",
              "      <td>1.249111</td>\n",
              "      <td>179129</td>\n",
              "      <td>13943</td>\n",
              "      <td>29.4043</td>\n",
              "      <td>1.0051</td>\n",
              "      <td>0.01</td>\n",
              "    </tr>\n",
              "  </tbody>\n",
              "</table>\n",
              "<p>15 rows × 25 columns</p>\n",
              "</div>\n",
              "    <div class=\"colab-df-buttons\">\n",
              "\n",
              "  <div class=\"colab-df-container\">\n",
              "    <button class=\"colab-df-convert\" onclick=\"convertToInteractive('df-8307ca05-6a48-49c8-8718-37119d985a02')\"\n",
              "            title=\"Convert this dataframe to an interactive table.\"\n",
              "            style=\"display:none;\">\n",
              "\n",
              "  <svg xmlns=\"http://www.w3.org/2000/svg\" height=\"24px\" viewBox=\"0 -960 960 960\">\n",
              "    <path d=\"M120-120v-720h720v720H120Zm60-500h600v-160H180v160Zm220 220h160v-160H400v160Zm0 220h160v-160H400v160ZM180-400h160v-160H180v160Zm440 0h160v-160H620v160ZM180-180h160v-160H180v160Zm440 0h160v-160H620v160Z\"/>\n",
              "  </svg>\n",
              "    </button>\n",
              "\n",
              "  <style>\n",
              "    .colab-df-container {\n",
              "      display:flex;\n",
              "      gap: 12px;\n",
              "    }\n",
              "\n",
              "    .colab-df-convert {\n",
              "      background-color: #E8F0FE;\n",
              "      border: none;\n",
              "      border-radius: 50%;\n",
              "      cursor: pointer;\n",
              "      display: none;\n",
              "      fill: #1967D2;\n",
              "      height: 32px;\n",
              "      padding: 0 0 0 0;\n",
              "      width: 32px;\n",
              "    }\n",
              "\n",
              "    .colab-df-convert:hover {\n",
              "      background-color: #E2EBFA;\n",
              "      box-shadow: 0px 1px 2px rgba(60, 64, 67, 0.3), 0px 1px 3px 1px rgba(60, 64, 67, 0.15);\n",
              "      fill: #174EA6;\n",
              "    }\n",
              "\n",
              "    .colab-df-buttons div {\n",
              "      margin-bottom: 4px;\n",
              "    }\n",
              "\n",
              "    [theme=dark] .colab-df-convert {\n",
              "      background-color: #3B4455;\n",
              "      fill: #D2E3FC;\n",
              "    }\n",
              "\n",
              "    [theme=dark] .colab-df-convert:hover {\n",
              "      background-color: #434B5C;\n",
              "      box-shadow: 0px 1px 3px 1px rgba(0, 0, 0, 0.15);\n",
              "      filter: drop-shadow(0px 1px 2px rgba(0, 0, 0, 0.3));\n",
              "      fill: #FFFFFF;\n",
              "    }\n",
              "  </style>\n",
              "\n",
              "    <script>\n",
              "      const buttonEl =\n",
              "        document.querySelector('#df-8307ca05-6a48-49c8-8718-37119d985a02 button.colab-df-convert');\n",
              "      buttonEl.style.display =\n",
              "        google.colab.kernel.accessAllowed ? 'block' : 'none';\n",
              "\n",
              "      async function convertToInteractive(key) {\n",
              "        const element = document.querySelector('#df-8307ca05-6a48-49c8-8718-37119d985a02');\n",
              "        const dataTable =\n",
              "          await google.colab.kernel.invokeFunction('convertToInteractive',\n",
              "                                                    [key], {});\n",
              "        if (!dataTable) return;\n",
              "\n",
              "        const docLinkHtml = 'Like what you see? Visit the ' +\n",
              "          '<a target=\"_blank\" href=https://colab.research.google.com/notebooks/data_table.ipynb>data table notebook</a>'\n",
              "          + ' to learn more about interactive tables.';\n",
              "        element.innerHTML = '';\n",
              "        dataTable['output_type'] = 'display_data';\n",
              "        await google.colab.output.renderOutput(dataTable, element);\n",
              "        const docLink = document.createElement('div');\n",
              "        docLink.innerHTML = docLinkHtml;\n",
              "        element.appendChild(docLink);\n",
              "      }\n",
              "    </script>\n",
              "  </div>\n",
              "\n",
              "\n",
              "<div id=\"df-fa7204d3-d503-4e8b-bac1-25228c862ce8\">\n",
              "  <button class=\"colab-df-quickchart\" onclick=\"quickchart('df-fa7204d3-d503-4e8b-bac1-25228c862ce8')\"\n",
              "            title=\"Suggest charts\"\n",
              "            style=\"display:none;\">\n",
              "\n",
              "<svg xmlns=\"http://www.w3.org/2000/svg\" height=\"24px\"viewBox=\"0 0 24 24\"\n",
              "     width=\"24px\">\n",
              "    <g>\n",
              "        <path d=\"M19 3H5c-1.1 0-2 .9-2 2v14c0 1.1.9 2 2 2h14c1.1 0 2-.9 2-2V5c0-1.1-.9-2-2-2zM9 17H7v-7h2v7zm4 0h-2V7h2v10zm4 0h-2v-4h2v4z\"/>\n",
              "    </g>\n",
              "</svg>\n",
              "  </button>\n",
              "\n",
              "<style>\n",
              "  .colab-df-quickchart {\n",
              "      --bg-color: #E8F0FE;\n",
              "      --fill-color: #1967D2;\n",
              "      --hover-bg-color: #E2EBFA;\n",
              "      --hover-fill-color: #174EA6;\n",
              "      --disabled-fill-color: #AAA;\n",
              "      --disabled-bg-color: #DDD;\n",
              "  }\n",
              "\n",
              "  [theme=dark] .colab-df-quickchart {\n",
              "      --bg-color: #3B4455;\n",
              "      --fill-color: #D2E3FC;\n",
              "      --hover-bg-color: #434B5C;\n",
              "      --hover-fill-color: #FFFFFF;\n",
              "      --disabled-bg-color: #3B4455;\n",
              "      --disabled-fill-color: #666;\n",
              "  }\n",
              "\n",
              "  .colab-df-quickchart {\n",
              "    background-color: var(--bg-color);\n",
              "    border: none;\n",
              "    border-radius: 50%;\n",
              "    cursor: pointer;\n",
              "    display: none;\n",
              "    fill: var(--fill-color);\n",
              "    height: 32px;\n",
              "    padding: 0;\n",
              "    width: 32px;\n",
              "  }\n",
              "\n",
              "  .colab-df-quickchart:hover {\n",
              "    background-color: var(--hover-bg-color);\n",
              "    box-shadow: 0 1px 2px rgba(60, 64, 67, 0.3), 0 1px 3px 1px rgba(60, 64, 67, 0.15);\n",
              "    fill: var(--button-hover-fill-color);\n",
              "  }\n",
              "\n",
              "  .colab-df-quickchart-complete:disabled,\n",
              "  .colab-df-quickchart-complete:disabled:hover {\n",
              "    background-color: var(--disabled-bg-color);\n",
              "    fill: var(--disabled-fill-color);\n",
              "    box-shadow: none;\n",
              "  }\n",
              "\n",
              "  .colab-df-spinner {\n",
              "    border: 2px solid var(--fill-color);\n",
              "    border-color: transparent;\n",
              "    border-bottom-color: var(--fill-color);\n",
              "    animation:\n",
              "      spin 1s steps(1) infinite;\n",
              "  }\n",
              "\n",
              "  @keyframes spin {\n",
              "    0% {\n",
              "      border-color: transparent;\n",
              "      border-bottom-color: var(--fill-color);\n",
              "      border-left-color: var(--fill-color);\n",
              "    }\n",
              "    20% {\n",
              "      border-color: transparent;\n",
              "      border-left-color: var(--fill-color);\n",
              "      border-top-color: var(--fill-color);\n",
              "    }\n",
              "    30% {\n",
              "      border-color: transparent;\n",
              "      border-left-color: var(--fill-color);\n",
              "      border-top-color: var(--fill-color);\n",
              "      border-right-color: var(--fill-color);\n",
              "    }\n",
              "    40% {\n",
              "      border-color: transparent;\n",
              "      border-right-color: var(--fill-color);\n",
              "      border-top-color: var(--fill-color);\n",
              "    }\n",
              "    60% {\n",
              "      border-color: transparent;\n",
              "      border-right-color: var(--fill-color);\n",
              "    }\n",
              "    80% {\n",
              "      border-color: transparent;\n",
              "      border-right-color: var(--fill-color);\n",
              "      border-bottom-color: var(--fill-color);\n",
              "    }\n",
              "    90% {\n",
              "      border-color: transparent;\n",
              "      border-bottom-color: var(--fill-color);\n",
              "    }\n",
              "  }\n",
              "</style>\n",
              "\n",
              "  <script>\n",
              "    async function quickchart(key) {\n",
              "      const quickchartButtonEl =\n",
              "        document.querySelector('#' + key + ' button');\n",
              "      quickchartButtonEl.disabled = true;  // To prevent multiple clicks.\n",
              "      quickchartButtonEl.classList.add('colab-df-spinner');\n",
              "      try {\n",
              "        const charts = await google.colab.kernel.invokeFunction(\n",
              "            'suggestCharts', [key], {});\n",
              "      } catch (error) {\n",
              "        console.error('Error during call to suggestCharts:', error);\n",
              "      }\n",
              "      quickchartButtonEl.classList.remove('colab-df-spinner');\n",
              "      quickchartButtonEl.classList.add('colab-df-quickchart-complete');\n",
              "    }\n",
              "    (() => {\n",
              "      let quickchartButtonEl =\n",
              "        document.querySelector('#df-fa7204d3-d503-4e8b-bac1-25228c862ce8 button');\n",
              "      quickchartButtonEl.style.display =\n",
              "        google.colab.kernel.accessAllowed ? 'block' : 'none';\n",
              "    })();\n",
              "  </script>\n",
              "</div>\n",
              "\n",
              "    </div>\n",
              "  </div>\n"
            ],
            "application/vnd.google.colaboratory.intrinsic+json": {
              "type": "dataframe",
              "variable_name": "df"
            }
          },
          "metadata": {},
          "execution_count": 115
        }
      ]
    },
    {
      "cell_type": "code",
      "source": [
        "df.dtypes"
      ],
      "metadata": {
        "colab": {
          "base_uri": "https://localhost:8080/",
          "height": 868
        },
        "id": "XMVECpxHD_hm",
        "outputId": "1d906694-b41a-444a-ca14-1f691f5fc2da"
      },
      "execution_count": 116,
      "outputs": [
        {
          "output_type": "execute_result",
          "data": {
            "text/plain": [
              "Rank                             int64\n",
              "CCA3                            object\n",
              "Country/Territory               object\n",
              "Capital                         object\n",
              "Continent                       object\n",
              "2022 Population                  int64\n",
              "2020 Population                  int64\n",
              "Cre.2020VS1970                 float64\n",
              "Cre.2020VS2010                 float64\n",
              "Cre.2020VS2015                 float64\n",
              "2015 Population                  int64\n",
              "Cre.2015vs2010                 float64\n",
              "2010 Population                  int64\n",
              "2010vs2000                     float64\n",
              "2000 Population                  int64\n",
              "2000vs1990                     float64\n",
              "1990 Population                  int64\n",
              "1990vs1980                     float64\n",
              "1980 Population                  int64\n",
              "1980vs1970                     float64\n",
              "1970 Population                  int64\n",
              "Area (km²)                       int64\n",
              "Density (per km²)              float64\n",
              "Growth Rate                    float64\n",
              "World Population Percentage    float64\n",
              "dtype: object"
            ],
            "text/html": [
              "<div>\n",
              "<style scoped>\n",
              "    .dataframe tbody tr th:only-of-type {\n",
              "        vertical-align: middle;\n",
              "    }\n",
              "\n",
              "    .dataframe tbody tr th {\n",
              "        vertical-align: top;\n",
              "    }\n",
              "\n",
              "    .dataframe thead th {\n",
              "        text-align: right;\n",
              "    }\n",
              "</style>\n",
              "<table border=\"1\" class=\"dataframe\">\n",
              "  <thead>\n",
              "    <tr style=\"text-align: right;\">\n",
              "      <th></th>\n",
              "      <th>0</th>\n",
              "    </tr>\n",
              "  </thead>\n",
              "  <tbody>\n",
              "    <tr>\n",
              "      <th>Rank</th>\n",
              "      <td>int64</td>\n",
              "    </tr>\n",
              "    <tr>\n",
              "      <th>CCA3</th>\n",
              "      <td>object</td>\n",
              "    </tr>\n",
              "    <tr>\n",
              "      <th>Country/Territory</th>\n",
              "      <td>object</td>\n",
              "    </tr>\n",
              "    <tr>\n",
              "      <th>Capital</th>\n",
              "      <td>object</td>\n",
              "    </tr>\n",
              "    <tr>\n",
              "      <th>Continent</th>\n",
              "      <td>object</td>\n",
              "    </tr>\n",
              "    <tr>\n",
              "      <th>2022 Population</th>\n",
              "      <td>int64</td>\n",
              "    </tr>\n",
              "    <tr>\n",
              "      <th>2020 Population</th>\n",
              "      <td>int64</td>\n",
              "    </tr>\n",
              "    <tr>\n",
              "      <th>Cre.2020VS1970</th>\n",
              "      <td>float64</td>\n",
              "    </tr>\n",
              "    <tr>\n",
              "      <th>Cre.2020VS2010</th>\n",
              "      <td>float64</td>\n",
              "    </tr>\n",
              "    <tr>\n",
              "      <th>Cre.2020VS2015</th>\n",
              "      <td>float64</td>\n",
              "    </tr>\n",
              "    <tr>\n",
              "      <th>2015 Population</th>\n",
              "      <td>int64</td>\n",
              "    </tr>\n",
              "    <tr>\n",
              "      <th>Cre.2015vs2010</th>\n",
              "      <td>float64</td>\n",
              "    </tr>\n",
              "    <tr>\n",
              "      <th>2010 Population</th>\n",
              "      <td>int64</td>\n",
              "    </tr>\n",
              "    <tr>\n",
              "      <th>2010vs2000</th>\n",
              "      <td>float64</td>\n",
              "    </tr>\n",
              "    <tr>\n",
              "      <th>2000 Population</th>\n",
              "      <td>int64</td>\n",
              "    </tr>\n",
              "    <tr>\n",
              "      <th>2000vs1990</th>\n",
              "      <td>float64</td>\n",
              "    </tr>\n",
              "    <tr>\n",
              "      <th>1990 Population</th>\n",
              "      <td>int64</td>\n",
              "    </tr>\n",
              "    <tr>\n",
              "      <th>1990vs1980</th>\n",
              "      <td>float64</td>\n",
              "    </tr>\n",
              "    <tr>\n",
              "      <th>1980 Population</th>\n",
              "      <td>int64</td>\n",
              "    </tr>\n",
              "    <tr>\n",
              "      <th>1980vs1970</th>\n",
              "      <td>float64</td>\n",
              "    </tr>\n",
              "    <tr>\n",
              "      <th>1970 Population</th>\n",
              "      <td>int64</td>\n",
              "    </tr>\n",
              "    <tr>\n",
              "      <th>Area (km²)</th>\n",
              "      <td>int64</td>\n",
              "    </tr>\n",
              "    <tr>\n",
              "      <th>Density (per km²)</th>\n",
              "      <td>float64</td>\n",
              "    </tr>\n",
              "    <tr>\n",
              "      <th>Growth Rate</th>\n",
              "      <td>float64</td>\n",
              "    </tr>\n",
              "    <tr>\n",
              "      <th>World Population Percentage</th>\n",
              "      <td>float64</td>\n",
              "    </tr>\n",
              "  </tbody>\n",
              "</table>\n",
              "</div><br><label><b>dtype:</b> object</label>"
            ]
          },
          "metadata": {},
          "execution_count": 116
        }
      ]
    },
    {
      "cell_type": "code",
      "source": [
        "df.info()"
      ],
      "metadata": {
        "colab": {
          "base_uri": "https://localhost:8080/"
        },
        "id": "poEux7lxFvQj",
        "outputId": "ea75a2e5-bdb9-4460-99ef-b5be0bd1a996"
      },
      "execution_count": 117,
      "outputs": [
        {
          "output_type": "stream",
          "name": "stdout",
          "text": [
            "<class 'pandas.core.frame.DataFrame'>\n",
            "RangeIndex: 234 entries, 0 to 233\n",
            "Data columns (total 25 columns):\n",
            " #   Column                       Non-Null Count  Dtype  \n",
            "---  ------                       --------------  -----  \n",
            " 0   Rank                         234 non-null    int64  \n",
            " 1   CCA3                         234 non-null    object \n",
            " 2   Country/Territory            234 non-null    object \n",
            " 3   Capital                      234 non-null    object \n",
            " 4   Continent                    234 non-null    object \n",
            " 5   2022 Population              234 non-null    int64  \n",
            " 6   2020 Population              234 non-null    int64  \n",
            " 7   Cre.2020VS1970               234 non-null    float64\n",
            " 8   Cre.2020VS2010               234 non-null    float64\n",
            " 9   Cre.2020VS2015               234 non-null    float64\n",
            " 10  2015 Population              234 non-null    int64  \n",
            " 11  Cre.2015vs2010               234 non-null    float64\n",
            " 12  2010 Population              234 non-null    int64  \n",
            " 13  2010vs2000                   234 non-null    float64\n",
            " 14  2000 Population              234 non-null    int64  \n",
            " 15  2000vs1990                   234 non-null    float64\n",
            " 16  1990 Population              234 non-null    int64  \n",
            " 17  1990vs1980                   234 non-null    float64\n",
            " 18  1980 Population              234 non-null    int64  \n",
            " 19  1980vs1970                   234 non-null    float64\n",
            " 20  1970 Population              234 non-null    int64  \n",
            " 21  Area (km²)                   234 non-null    int64  \n",
            " 22  Density (per km²)            234 non-null    float64\n",
            " 23  Growth Rate                  234 non-null    float64\n",
            " 24  World Population Percentage  234 non-null    float64\n",
            "dtypes: float64(11), int64(10), object(4)\n",
            "memory usage: 45.8+ KB\n"
          ]
        }
      ]
    },
    {
      "cell_type": "code",
      "source": [
        "df.describe().T.sort_values(ascending=0, by=\"mean\").style.background_gradient(cmap = \"BuGn\")"
      ],
      "metadata": {
        "colab": {
          "base_uri": "https://localhost:8080/",
          "height": 708
        },
        "id": "vjPxwmXYGElf",
        "outputId": "da5469ef-370a-48e6-90f2-961cbb6bd34d"
      },
      "execution_count": 118,
      "outputs": [
        {
          "output_type": "execute_result",
          "data": {
            "text/plain": [
              "<pandas.io.formats.style.Styler at 0x78c5b10f0e20>"
            ],
            "text/html": [
              "<style type=\"text/css\">\n",
              "#T_56e4c_row0_col0, #T_56e4c_row1_col0, #T_56e4c_row2_col0, #T_56e4c_row3_col0, #T_56e4c_row4_col0, #T_56e4c_row5_col0, #T_56e4c_row6_col0, #T_56e4c_row7_col0, #T_56e4c_row8_col0, #T_56e4c_row8_col3, #T_56e4c_row9_col0, #T_56e4c_row9_col1, #T_56e4c_row9_col2, #T_56e4c_row9_col3, #T_56e4c_row9_col4, #T_56e4c_row9_col5, #T_56e4c_row9_col6, #T_56e4c_row9_col7, #T_56e4c_row10_col0, #T_56e4c_row10_col1, #T_56e4c_row10_col2, #T_56e4c_row10_col3, #T_56e4c_row10_col4, #T_56e4c_row10_col5, #T_56e4c_row10_col6, #T_56e4c_row10_col7, #T_56e4c_row11_col0, #T_56e4c_row11_col1, #T_56e4c_row11_col2, #T_56e4c_row11_col3, #T_56e4c_row11_col4, #T_56e4c_row11_col5, #T_56e4c_row11_col6, #T_56e4c_row11_col7, #T_56e4c_row12_col0, #T_56e4c_row12_col1, #T_56e4c_row12_col2, #T_56e4c_row12_col3, #T_56e4c_row12_col4, #T_56e4c_row12_col5, #T_56e4c_row12_col6, #T_56e4c_row12_col7, #T_56e4c_row13_col0, #T_56e4c_row13_col1, #T_56e4c_row13_col2, #T_56e4c_row13_col3, #T_56e4c_row13_col4, #T_56e4c_row13_col5, #T_56e4c_row13_col6, #T_56e4c_row13_col7, #T_56e4c_row14_col0, #T_56e4c_row14_col1, #T_56e4c_row14_col2, #T_56e4c_row14_col3, #T_56e4c_row14_col4, #T_56e4c_row14_col5, #T_56e4c_row14_col6, #T_56e4c_row14_col7, #T_56e4c_row15_col0, #T_56e4c_row15_col1, #T_56e4c_row15_col2, #T_56e4c_row15_col3, #T_56e4c_row15_col4, #T_56e4c_row15_col5, #T_56e4c_row15_col6, #T_56e4c_row15_col7, #T_56e4c_row16_col0, #T_56e4c_row16_col1, #T_56e4c_row16_col2, #T_56e4c_row16_col3, #T_56e4c_row16_col4, #T_56e4c_row16_col5, #T_56e4c_row16_col6, #T_56e4c_row16_col7, #T_56e4c_row17_col0, #T_56e4c_row17_col1, #T_56e4c_row17_col2, #T_56e4c_row17_col3, #T_56e4c_row17_col4, #T_56e4c_row17_col5, #T_56e4c_row17_col6, #T_56e4c_row17_col7, #T_56e4c_row18_col0, #T_56e4c_row18_col1, #T_56e4c_row18_col2, #T_56e4c_row18_col3, #T_56e4c_row18_col4, #T_56e4c_row18_col5, #T_56e4c_row18_col6, #T_56e4c_row18_col7, #T_56e4c_row19_col0, #T_56e4c_row19_col1, #T_56e4c_row19_col2, #T_56e4c_row19_col3, #T_56e4c_row19_col4, #T_56e4c_row19_col5, #T_56e4c_row19_col6, #T_56e4c_row19_col7, #T_56e4c_row20_col0, #T_56e4c_row20_col1, #T_56e4c_row20_col2, #T_56e4c_row20_col3, #T_56e4c_row20_col4, #T_56e4c_row20_col5, #T_56e4c_row20_col6, #T_56e4c_row20_col7 {\n",
              "  background-color: #f7fcfd;\n",
              "  color: #000000;\n",
              "}\n",
              "#T_56e4c_row0_col1, #T_56e4c_row0_col2, #T_56e4c_row0_col4, #T_56e4c_row0_col5, #T_56e4c_row0_col6, #T_56e4c_row0_col7, #T_56e4c_row1_col7, #T_56e4c_row7_col3 {\n",
              "  background-color: #00441b;\n",
              "  color: #f1f1f1;\n",
              "}\n",
              "#T_56e4c_row0_col3 {\n",
              "  background-color: #349f61;\n",
              "  color: #f1f1f1;\n",
              "}\n",
              "#T_56e4c_row1_col1 {\n",
              "  background-color: #00491d;\n",
              "  color: #f1f1f1;\n",
              "}\n",
              "#T_56e4c_row1_col2, #T_56e4c_row1_col4 {\n",
              "  background-color: #00471c;\n",
              "  color: #f1f1f1;\n",
              "}\n",
              "#T_56e4c_row1_col3 {\n",
              "  background-color: #309b5b;\n",
              "  color: #f1f1f1;\n",
              "}\n",
              "#T_56e4c_row1_col5 {\n",
              "  background-color: #00481d;\n",
              "  color: #f1f1f1;\n",
              "}\n",
              "#T_56e4c_row1_col6, #T_56e4c_row2_col2, #T_56e4c_row2_col5 {\n",
              "  background-color: #005221;\n",
              "  color: #f1f1f1;\n",
              "}\n",
              "#T_56e4c_row2_col1, #T_56e4c_row5_col3 {\n",
              "  background-color: #005a24;\n",
              "  color: #f1f1f1;\n",
              "}\n",
              "#T_56e4c_row2_col3 {\n",
              "  background-color: #228a44;\n",
              "  color: #f1f1f1;\n",
              "}\n",
              "#T_56e4c_row2_col4 {\n",
              "  background-color: #005020;\n",
              "  color: #f1f1f1;\n",
              "}\n",
              "#T_56e4c_row2_col6, #T_56e4c_row3_col1 {\n",
              "  background-color: #006c2c;\n",
              "  color: #f1f1f1;\n",
              "}\n",
              "#T_56e4c_row2_col7 {\n",
              "  background-color: #004a1e;\n",
              "  color: #f1f1f1;\n",
              "}\n",
              "#T_56e4c_row3_col2 {\n",
              "  background-color: #006227;\n",
              "  color: #f1f1f1;\n",
              "}\n",
              "#T_56e4c_row3_col3 {\n",
              "  background-color: #17813d;\n",
              "  color: #f1f1f1;\n",
              "}\n",
              "#T_56e4c_row3_col4 {\n",
              "  background-color: #005924;\n",
              "  color: #f1f1f1;\n",
              "}\n",
              "#T_56e4c_row3_col5 {\n",
              "  background-color: #00682a;\n",
              "  color: #f1f1f1;\n",
              "}\n",
              "#T_56e4c_row3_col6 {\n",
              "  background-color: #067230;\n",
              "  color: #f1f1f1;\n",
              "}\n",
              "#T_56e4c_row3_col7 {\n",
              "  background-color: #005522;\n",
              "  color: #f1f1f1;\n",
              "}\n",
              "#T_56e4c_row4_col1, #T_56e4c_row4_col5 {\n",
              "  background-color: #1d8640;\n",
              "  color: #f1f1f1;\n",
              "}\n",
              "#T_56e4c_row4_col2 {\n",
              "  background-color: #107a37;\n",
              "  color: #f1f1f1;\n",
              "}\n",
              "#T_56e4c_row4_col3 {\n",
              "  background-color: #026f2e;\n",
              "  color: #f1f1f1;\n",
              "}\n",
              "#T_56e4c_row4_col4 {\n",
              "  background-color: #1a843f;\n",
              "  color: #f1f1f1;\n",
              "}\n",
              "#T_56e4c_row4_col6 {\n",
              "  background-color: #2f9858;\n",
              "  color: #f1f1f1;\n",
              "}\n",
              "#T_56e4c_row4_col7 {\n",
              "  background-color: #00692a;\n",
              "  color: #f1f1f1;\n",
              "}\n",
              "#T_56e4c_row5_col1 {\n",
              "  background-color: #37a266;\n",
              "  color: #f1f1f1;\n",
              "}\n",
              "#T_56e4c_row5_col2 {\n",
              "  background-color: #2b9452;\n",
              "  color: #f1f1f1;\n",
              "}\n",
              "#T_56e4c_row5_col4 {\n",
              "  background-color: #3fac74;\n",
              "  color: #f1f1f1;\n",
              "}\n",
              "#T_56e4c_row5_col5, #T_56e4c_row6_col7 {\n",
              "  background-color: #319c5c;\n",
              "  color: #f1f1f1;\n",
              "}\n",
              "#T_56e4c_row5_col6 {\n",
              "  background-color: #5dbd99;\n",
              "  color: #000000;\n",
              "}\n",
              "#T_56e4c_row5_col7 {\n",
              "  background-color: #127c39;\n",
              "  color: #f1f1f1;\n",
              "}\n",
              "#T_56e4c_row6_col1 {\n",
              "  background-color: #55b98f;\n",
              "  color: #f1f1f1;\n",
              "}\n",
              "#T_56e4c_row6_col2 {\n",
              "  background-color: #48b27f;\n",
              "  color: #f1f1f1;\n",
              "}\n",
              "#T_56e4c_row6_col3 {\n",
              "  background-color: #004c1e;\n",
              "  color: #f1f1f1;\n",
              "}\n",
              "#T_56e4c_row6_col4 {\n",
              "  background-color: #57ba92;\n",
              "  color: #f1f1f1;\n",
              "}\n",
              "#T_56e4c_row6_col5 {\n",
              "  background-color: #53b88c;\n",
              "  color: #f1f1f1;\n",
              "}\n",
              "#T_56e4c_row6_col6 {\n",
              "  background-color: #80cdb7;\n",
              "  color: #000000;\n",
              "}\n",
              "#T_56e4c_row7_col1 {\n",
              "  background-color: #75c9af;\n",
              "  color: #000000;\n",
              "}\n",
              "#T_56e4c_row7_col2 {\n",
              "  background-color: #68c3a6;\n",
              "  color: #000000;\n",
              "}\n",
              "#T_56e4c_row7_col4 {\n",
              "  background-color: #9ad8ca;\n",
              "  color: #000000;\n",
              "}\n",
              "#T_56e4c_row7_col5 {\n",
              "  background-color: #74c8ae;\n",
              "  color: #000000;\n",
              "}\n",
              "#T_56e4c_row7_col6 {\n",
              "  background-color: #92d5c4;\n",
              "  color: #000000;\n",
              "}\n",
              "#T_56e4c_row7_col7 {\n",
              "  background-color: #4fb688;\n",
              "  color: #f1f1f1;\n",
              "}\n",
              "#T_56e4c_row8_col1, #T_56e4c_row8_col6 {\n",
              "  background-color: #f5fbfc;\n",
              "  color: #000000;\n",
              "}\n",
              "#T_56e4c_row8_col2, #T_56e4c_row8_col5, #T_56e4c_row8_col7 {\n",
              "  background-color: #f5fbfd;\n",
              "  color: #000000;\n",
              "}\n",
              "#T_56e4c_row8_col4 {\n",
              "  background-color: #f6fcfd;\n",
              "  color: #000000;\n",
              "}\n",
              "</style>\n",
              "<table id=\"T_56e4c\" class=\"dataframe\">\n",
              "  <thead>\n",
              "    <tr>\n",
              "      <th class=\"blank level0\" >&nbsp;</th>\n",
              "      <th id=\"T_56e4c_level0_col0\" class=\"col_heading level0 col0\" >count</th>\n",
              "      <th id=\"T_56e4c_level0_col1\" class=\"col_heading level0 col1\" >mean</th>\n",
              "      <th id=\"T_56e4c_level0_col2\" class=\"col_heading level0 col2\" >std</th>\n",
              "      <th id=\"T_56e4c_level0_col3\" class=\"col_heading level0 col3\" >min</th>\n",
              "      <th id=\"T_56e4c_level0_col4\" class=\"col_heading level0 col4\" >25%</th>\n",
              "      <th id=\"T_56e4c_level0_col5\" class=\"col_heading level0 col5\" >50%</th>\n",
              "      <th id=\"T_56e4c_level0_col6\" class=\"col_heading level0 col6\" >75%</th>\n",
              "      <th id=\"T_56e4c_level0_col7\" class=\"col_heading level0 col7\" >max</th>\n",
              "    </tr>\n",
              "  </thead>\n",
              "  <tbody>\n",
              "    <tr>\n",
              "      <th id=\"T_56e4c_level0_row0\" class=\"row_heading level0 row0\" >2022 Population</th>\n",
              "      <td id=\"T_56e4c_row0_col0\" class=\"data row0 col0\" >234.000000</td>\n",
              "      <td id=\"T_56e4c_row0_col1\" class=\"data row0 col1\" >34074414.709402</td>\n",
              "      <td id=\"T_56e4c_row0_col2\" class=\"data row0 col2\" >136766424.804763</td>\n",
              "      <td id=\"T_56e4c_row0_col3\" class=\"data row0 col3\" >510.000000</td>\n",
              "      <td id=\"T_56e4c_row0_col4\" class=\"data row0 col4\" >419738.500000</td>\n",
              "      <td id=\"T_56e4c_row0_col5\" class=\"data row0 col5\" >5559944.500000</td>\n",
              "      <td id=\"T_56e4c_row0_col6\" class=\"data row0 col6\" >22476504.750000</td>\n",
              "      <td id=\"T_56e4c_row0_col7\" class=\"data row0 col7\" >1425887337.000000</td>\n",
              "    </tr>\n",
              "    <tr>\n",
              "      <th id=\"T_56e4c_level0_row1\" class=\"row_heading level0 row1\" >2020 Population</th>\n",
              "      <td id=\"T_56e4c_row1_col0\" class=\"data row1 col0\" >234.000000</td>\n",
              "      <td id=\"T_56e4c_row1_col1\" class=\"data row1 col1\" >33501070.952991</td>\n",
              "      <td id=\"T_56e4c_row1_col2\" class=\"data row1 col2\" >135589876.924439</td>\n",
              "      <td id=\"T_56e4c_row1_col3\" class=\"data row1 col3\" >520.000000</td>\n",
              "      <td id=\"T_56e4c_row1_col4\" class=\"data row1 col4\" >415284.500000</td>\n",
              "      <td id=\"T_56e4c_row1_col5\" class=\"data row1 col5\" >5493074.500000</td>\n",
              "      <td id=\"T_56e4c_row1_col6\" class=\"data row1 col6\" >21447979.500000</td>\n",
              "      <td id=\"T_56e4c_row1_col7\" class=\"data row1 col7\" >1424929781.000000</td>\n",
              "    </tr>\n",
              "    <tr>\n",
              "      <th id=\"T_56e4c_level0_row2\" class=\"row_heading level0 row2\" >2015 Population</th>\n",
              "      <td id=\"T_56e4c_row2_col0\" class=\"data row2 col0\" >234.000000</td>\n",
              "      <td id=\"T_56e4c_row2_col1\" class=\"data row2 col1\" >31729956.243590</td>\n",
              "      <td id=\"T_56e4c_row2_col2\" class=\"data row2 col2\" >130404992.751760</td>\n",
              "      <td id=\"T_56e4c_row2_col3\" class=\"data row2 col3\" >564.000000</td>\n",
              "      <td id=\"T_56e4c_row2_col4\" class=\"data row2 col4\" >404676.000000</td>\n",
              "      <td id=\"T_56e4c_row2_col5\" class=\"data row2 col5\" >5307400.000000</td>\n",
              "      <td id=\"T_56e4c_row2_col6\" class=\"data row2 col6\" >19730853.750000</td>\n",
              "      <td id=\"T_56e4c_row2_col7\" class=\"data row2 col7\" >1393715448.000000</td>\n",
              "    </tr>\n",
              "    <tr>\n",
              "      <th id=\"T_56e4c_level0_row3\" class=\"row_heading level0 row3\" >2010 Population</th>\n",
              "      <td id=\"T_56e4c_row3_col0\" class=\"data row3 col0\" >234.000000</td>\n",
              "      <td id=\"T_56e4c_row3_col1\" class=\"data row3 col1\" >29845235.034188</td>\n",
              "      <td id=\"T_56e4c_row3_col2\" class=\"data row3 col2\" >124218487.632998</td>\n",
              "      <td id=\"T_56e4c_row3_col3\" class=\"data row3 col3\" >596.000000</td>\n",
              "      <td id=\"T_56e4c_row3_col4\" class=\"data row3 col4\" >393149.000000</td>\n",
              "      <td id=\"T_56e4c_row3_col5\" class=\"data row3 col5\" >4942770.500000</td>\n",
              "      <td id=\"T_56e4c_row3_col6\" class=\"data row3 col6\" >19159567.500000</td>\n",
              "      <td id=\"T_56e4c_row3_col7\" class=\"data row3 col7\" >1348191368.000000</td>\n",
              "    </tr>\n",
              "    <tr>\n",
              "      <th id=\"T_56e4c_level0_row4\" class=\"row_heading level0 row4\" >2000 Population</th>\n",
              "      <td id=\"T_56e4c_row4_col0\" class=\"data row4 col0\" >234.000000</td>\n",
              "      <td id=\"T_56e4c_row4_col1\" class=\"data row4 col1\" >26269468.816239</td>\n",
              "      <td id=\"T_56e4c_row4_col2\" class=\"data row4 col2\" >111698206.719070</td>\n",
              "      <td id=\"T_56e4c_row4_col3\" class=\"data row4 col3\" >651.000000</td>\n",
              "      <td id=\"T_56e4c_row4_col4\" class=\"data row4 col4\" >327242.000000</td>\n",
              "      <td id=\"T_56e4c_row4_col5\" class=\"data row4 col5\" >4292907.000000</td>\n",
              "      <td id=\"T_56e4c_row4_col6\" class=\"data row4 col6\" >15762301.000000</td>\n",
              "      <td id=\"T_56e4c_row4_col7\" class=\"data row4 col7\" >1264099069.000000</td>\n",
              "    </tr>\n",
              "    <tr>\n",
              "      <th id=\"T_56e4c_level0_row5\" class=\"row_heading level0 row5\" >1990 Population</th>\n",
              "      <td id=\"T_56e4c_row5_col0\" class=\"data row5 col0\" >234.000000</td>\n",
              "      <td id=\"T_56e4c_row5_col1\" class=\"data row5 col1\" >22710220.790598</td>\n",
              "      <td id=\"T_56e4c_row5_col2\" class=\"data row5 col2\" >97832173.346751</td>\n",
              "      <td id=\"T_56e4c_row5_col3\" class=\"data row5 col3\" >700.000000</td>\n",
              "      <td id=\"T_56e4c_row5_col4\" class=\"data row5 col4\" >264115.750000</td>\n",
              "      <td id=\"T_56e4c_row5_col5\" class=\"data row5 col5\" >3825409.500000</td>\n",
              "      <td id=\"T_56e4c_row5_col6\" class=\"data row5 col6\" >11869231.000000</td>\n",
              "      <td id=\"T_56e4c_row5_col7\" class=\"data row5 col7\" >1153704252.000000</td>\n",
              "    </tr>\n",
              "    <tr>\n",
              "      <th id=\"T_56e4c_level0_row6\" class=\"row_heading level0 row6\" >1980 Population</th>\n",
              "      <td id=\"T_56e4c_row6_col0\" class=\"data row6 col0\" >234.000000</td>\n",
              "      <td id=\"T_56e4c_row6_col1\" class=\"data row6 col1\" >18984616.970085</td>\n",
              "      <td id=\"T_56e4c_row6_col2\" class=\"data row6 col2\" >81785186.084201</td>\n",
              "      <td id=\"T_56e4c_row6_col3\" class=\"data row6 col3\" >733.000000</td>\n",
              "      <td id=\"T_56e4c_row6_col4\" class=\"data row6 col4\" >229614.250000</td>\n",
              "      <td id=\"T_56e4c_row6_col5\" class=\"data row6 col5\" >3141145.500000</td>\n",
              "      <td id=\"T_56e4c_row6_col6\" class=\"data row6 col6\" >9826053.750000</td>\n",
              "      <td id=\"T_56e4c_row6_col7\" class=\"data row6 col7\" >982372466.000000</td>\n",
              "    </tr>\n",
              "    <tr>\n",
              "      <th id=\"T_56e4c_level0_row7\" class=\"row_heading level0 row7\" >1970 Population</th>\n",
              "      <td id=\"T_56e4c_row7_col0\" class=\"data row7 col0\" >234.000000</td>\n",
              "      <td id=\"T_56e4c_row7_col1\" class=\"data row7 col1\" >15786908.807692</td>\n",
              "      <td id=\"T_56e4c_row7_col2\" class=\"data row7 col2\" >67795091.643236</td>\n",
              "      <td id=\"T_56e4c_row7_col3\" class=\"data row7 col3\" >752.000000</td>\n",
              "      <td id=\"T_56e4c_row7_col4\" class=\"data row7 col4\" >155997.000000</td>\n",
              "      <td id=\"T_56e4c_row7_col5\" class=\"data row7 col5\" >2604830.000000</td>\n",
              "      <td id=\"T_56e4c_row7_col6\" class=\"data row7 col6\" >8817329.000000</td>\n",
              "      <td id=\"T_56e4c_row7_col7\" class=\"data row7 col7\" >822534450.000000</td>\n",
              "    </tr>\n",
              "    <tr>\n",
              "      <th id=\"T_56e4c_level0_row8\" class=\"row_heading level0 row8\" >Area (km²)</th>\n",
              "      <td id=\"T_56e4c_row8_col0\" class=\"data row8 col0\" >234.000000</td>\n",
              "      <td id=\"T_56e4c_row8_col1\" class=\"data row8 col1\" >581449.384615</td>\n",
              "      <td id=\"T_56e4c_row8_col2\" class=\"data row8 col2\" >1761840.864063</td>\n",
              "      <td id=\"T_56e4c_row8_col3\" class=\"data row8 col3\" >1.000000</td>\n",
              "      <td id=\"T_56e4c_row8_col4\" class=\"data row8 col4\" >2650.000000</td>\n",
              "      <td id=\"T_56e4c_row8_col5\" class=\"data row8 col5\" >81199.500000</td>\n",
              "      <td id=\"T_56e4c_row8_col6\" class=\"data row8 col6\" >430425.750000</td>\n",
              "      <td id=\"T_56e4c_row8_col7\" class=\"data row8 col7\" >17098242.000000</td>\n",
              "    </tr>\n",
              "    <tr>\n",
              "      <th id=\"T_56e4c_level0_row9\" class=\"row_heading level0 row9\" >Density (per km²)</th>\n",
              "      <td id=\"T_56e4c_row9_col0\" class=\"data row9 col0\" >234.000000</td>\n",
              "      <td id=\"T_56e4c_row9_col1\" class=\"data row9 col1\" >452.127044</td>\n",
              "      <td id=\"T_56e4c_row9_col2\" class=\"data row9 col2\" >2066.121904</td>\n",
              "      <td id=\"T_56e4c_row9_col3\" class=\"data row9 col3\" >0.026100</td>\n",
              "      <td id=\"T_56e4c_row9_col4\" class=\"data row9 col4\" >38.417875</td>\n",
              "      <td id=\"T_56e4c_row9_col5\" class=\"data row9 col5\" >95.346750</td>\n",
              "      <td id=\"T_56e4c_row9_col6\" class=\"data row9 col6\" >238.933250</td>\n",
              "      <td id=\"T_56e4c_row9_col7\" class=\"data row9 col7\" >23172.266700</td>\n",
              "    </tr>\n",
              "    <tr>\n",
              "      <th id=\"T_56e4c_level0_row10\" class=\"row_heading level0 row10\" >Rank</th>\n",
              "      <td id=\"T_56e4c_row10_col0\" class=\"data row10 col0\" >234.000000</td>\n",
              "      <td id=\"T_56e4c_row10_col1\" class=\"data row10 col1\" >117.500000</td>\n",
              "      <td id=\"T_56e4c_row10_col2\" class=\"data row10 col2\" >67.694165</td>\n",
              "      <td id=\"T_56e4c_row10_col3\" class=\"data row10 col3\" >1.000000</td>\n",
              "      <td id=\"T_56e4c_row10_col4\" class=\"data row10 col4\" >59.250000</td>\n",
              "      <td id=\"T_56e4c_row10_col5\" class=\"data row10 col5\" >117.500000</td>\n",
              "      <td id=\"T_56e4c_row10_col6\" class=\"data row10 col6\" >175.750000</td>\n",
              "      <td id=\"T_56e4c_row10_col7\" class=\"data row10 col7\" >234.000000</td>\n",
              "    </tr>\n",
              "    <tr>\n",
              "      <th id=\"T_56e4c_level0_row11\" class=\"row_heading level0 row11\" >Cre.2020VS1970</th>\n",
              "      <td id=\"T_56e4c_row11_col0\" class=\"data row11 col0\" >234.000000</td>\n",
              "      <td id=\"T_56e4c_row11_col1\" class=\"data row11 col1\" >2.807126</td>\n",
              "      <td id=\"T_56e4c_row11_col2\" class=\"data row11 col2\" >2.769723</td>\n",
              "      <td id=\"T_56e4c_row11_col3\" class=\"data row11 col3\" >0.374542</td>\n",
              "      <td id=\"T_56e4c_row11_col4\" class=\"data row11 col4\" >1.344034</td>\n",
              "      <td id=\"T_56e4c_row11_col5\" class=\"data row11 col5\" >2.325768</td>\n",
              "      <td id=\"T_56e4c_row11_col6\" class=\"data row11 col6\" >3.469385</td>\n",
              "      <td id=\"T_56e4c_row11_col7\" class=\"data row11 col7\" >31.156617</td>\n",
              "    </tr>\n",
              "    <tr>\n",
              "      <th id=\"T_56e4c_level0_row12\" class=\"row_heading level0 row12\" >1980vs1970</th>\n",
              "      <td id=\"T_56e4c_row12_col0\" class=\"data row12 col0\" >234.000000</td>\n",
              "      <td id=\"T_56e4c_row12_col1\" class=\"data row12 col1\" >1.241529</td>\n",
              "      <td id=\"T_56e4c_row12_col2\" class=\"data row12 col2\" >0.242540</td>\n",
              "      <td id=\"T_56e4c_row12_col3\" class=\"data row12 col3\" >0.701446</td>\n",
              "      <td id=\"T_56e4c_row12_col4\" class=\"data row12 col4\" >1.099966</td>\n",
              "      <td id=\"T_56e4c_row12_col5\" class=\"data row12 col5\" >1.225143</td>\n",
              "      <td id=\"T_56e4c_row12_col6\" class=\"data row12 col6\" >1.329209</td>\n",
              "      <td id=\"T_56e4c_row12_col7\" class=\"data row12 col7\" >3.401887</td>\n",
              "    </tr>\n",
              "    <tr>\n",
              "      <th id=\"T_56e4c_level0_row13\" class=\"row_heading level0 row13\" >1990vs1980</th>\n",
              "      <td id=\"T_56e4c_row13_col0\" class=\"data row13 col0\" >234.000000</td>\n",
              "      <td id=\"T_56e4c_row13_col1\" class=\"data row13 col1\" >1.241395</td>\n",
              "      <td id=\"T_56e4c_row13_col2\" class=\"data row13 col2\" >0.265596</td>\n",
              "      <td id=\"T_56e4c_row13_col3\" class=\"data row13 col3\" >0.696453</td>\n",
              "      <td id=\"T_56e4c_row13_col4\" class=\"data row13 col4\" >1.075279</td>\n",
              "      <td id=\"T_56e4c_row13_col5\" class=\"data row13 col5\" >1.210241</td>\n",
              "      <td id=\"T_56e4c_row13_col6\" class=\"data row13 col6\" >1.323385</td>\n",
              "      <td id=\"T_56e4c_row13_col7\" class=\"data row13 col7\" >3.617155</td>\n",
              "    </tr>\n",
              "    <tr>\n",
              "      <th id=\"T_56e4c_level0_row14\" class=\"row_heading level0 row14\" >2000vs1990</th>\n",
              "      <td id=\"T_56e4c_row14_col0\" class=\"data row14 col0\" >234.000000</td>\n",
              "      <td id=\"T_56e4c_row14_col1\" class=\"data row14 col1\" >1.176002</td>\n",
              "      <td id=\"T_56e4c_row14_col2\" class=\"data row14 col2\" >0.168362</td>\n",
              "      <td id=\"T_56e4c_row14_col3\" class=\"data row14 col3\" >0.475521</td>\n",
              "      <td id=\"T_56e4c_row14_col4\" class=\"data row14 col4\" >1.059079</td>\n",
              "      <td id=\"T_56e4c_row14_col5\" class=\"data row14 col5\" >1.168568</td>\n",
              "      <td id=\"T_56e4c_row14_col6\" class=\"data row14 col6\" >1.287244</td>\n",
              "      <td id=\"T_56e4c_row14_col7\" class=\"data row14 col7\" >1.827336</td>\n",
              "    </tr>\n",
              "    <tr>\n",
              "      <th id=\"T_56e4c_level0_row15\" class=\"row_heading level0 row15\" >2010vs2000</th>\n",
              "      <td id=\"T_56e4c_row15_col0\" class=\"data row15 col0\" >234.000000</td>\n",
              "      <td id=\"T_56e4c_row15_col1\" class=\"data row15 col1\" >1.162756</td>\n",
              "      <td id=\"T_56e4c_row15_col2\" class=\"data row15 col2\" >0.208520</td>\n",
              "      <td id=\"T_56e4c_row15_col3\" class=\"data row15 col3\" >0.673243</td>\n",
              "      <td id=\"T_56e4c_row15_col4\" class=\"data row15 col4\" >1.040699</td>\n",
              "      <td id=\"T_56e4c_row15_col5\" class=\"data row15 col5\" >1.135129</td>\n",
              "      <td id=\"T_56e4c_row15_col6\" class=\"data row15 col6\" >1.268453</td>\n",
              "      <td id=\"T_56e4c_row15_col7\" class=\"data row15 col7\" >2.652742</td>\n",
              "    </tr>\n",
              "    <tr>\n",
              "      <th id=\"T_56e4c_level0_row16\" class=\"row_heading level0 row16\" >Cre.2020VS2010</th>\n",
              "      <td id=\"T_56e4c_row16_col0\" class=\"data row16 col0\" >234.000000</td>\n",
              "      <td id=\"T_56e4c_row16_col1\" class=\"data row16 col1\" >1.136763</td>\n",
              "      <td id=\"T_56e4c_row16_col2\" class=\"data row16 col2\" >0.147532</td>\n",
              "      <td id=\"T_56e4c_row16_col3\" class=\"data row16 col3\" >0.812734</td>\n",
              "      <td id=\"T_56e4c_row16_col4\" class=\"data row16 col4\" >1.031155</td>\n",
              "      <td id=\"T_56e4c_row16_col5\" class=\"data row16 col5\" >1.115917</td>\n",
              "      <td id=\"T_56e4c_row16_col6\" class=\"data row16 col6\" >1.225518</td>\n",
              "      <td id=\"T_56e4c_row16_col7\" class=\"data row16 col7\" >1.610959</td>\n",
              "    </tr>\n",
              "    <tr>\n",
              "      <th id=\"T_56e4c_level0_row17\" class=\"row_heading level0 row17\" >Cre.2015vs2010</th>\n",
              "      <td id=\"T_56e4c_row17_col0\" class=\"data row17 col0\" >234.000000</td>\n",
              "      <td id=\"T_56e4c_row17_col1\" class=\"data row17 col1\" >1.069395</td>\n",
              "      <td id=\"T_56e4c_row17_col2\" class=\"data row17 col2\" >0.081152</td>\n",
              "      <td id=\"T_56e4c_row17_col3\" class=\"data row17 col3\" >0.859771</td>\n",
              "      <td id=\"T_56e4c_row17_col4\" class=\"data row17 col4\" >1.017616</td>\n",
              "      <td id=\"T_56e4c_row17_col5\" class=\"data row17 col5\" >1.060956</td>\n",
              "      <td id=\"T_56e4c_row17_col6\" class=\"data row17 col6\" >1.116305</td>\n",
              "      <td id=\"T_56e4c_row17_col7\" class=\"data row17 col7\" >1.454511</td>\n",
              "    </tr>\n",
              "    <tr>\n",
              "      <th id=\"T_56e4c_level0_row18\" class=\"row_heading level0 row18\" >Cre.2020VS2015</th>\n",
              "      <td id=\"T_56e4c_row18_col0\" class=\"data row18 col0\" >234.000000</td>\n",
              "      <td id=\"T_56e4c_row18_col1\" class=\"data row18 col1\" >1.059348</td>\n",
              "      <td id=\"T_56e4c_row18_col2\" class=\"data row18 col2\" >0.067191</td>\n",
              "      <td id=\"T_56e4c_row18_col3\" class=\"data row18 col3\" >0.878628</td>\n",
              "      <td id=\"T_56e4c_row18_col4\" class=\"data row18 col4\" >1.011413</td>\n",
              "      <td id=\"T_56e4c_row18_col5\" class=\"data row18 col5\" >1.056109</td>\n",
              "      <td id=\"T_56e4c_row18_col6\" class=\"data row18 col6\" >1.104965</td>\n",
              "      <td id=\"T_56e4c_row18_col7\" class=\"data row18 col7\" >1.256534</td>\n",
              "    </tr>\n",
              "    <tr>\n",
              "      <th id=\"T_56e4c_level0_row19\" class=\"row_heading level0 row19\" >Growth Rate</th>\n",
              "      <td id=\"T_56e4c_row19_col0\" class=\"data row19 col0\" >234.000000</td>\n",
              "      <td id=\"T_56e4c_row19_col1\" class=\"data row19 col1\" >1.009577</td>\n",
              "      <td id=\"T_56e4c_row19_col2\" class=\"data row19 col2\" >0.013385</td>\n",
              "      <td id=\"T_56e4c_row19_col3\" class=\"data row19 col3\" >0.912000</td>\n",
              "      <td id=\"T_56e4c_row19_col4\" class=\"data row19 col4\" >1.001775</td>\n",
              "      <td id=\"T_56e4c_row19_col5\" class=\"data row19 col5\" >1.007900</td>\n",
              "      <td id=\"T_56e4c_row19_col6\" class=\"data row19 col6\" >1.016950</td>\n",
              "      <td id=\"T_56e4c_row19_col7\" class=\"data row19 col7\" >1.069100</td>\n",
              "    </tr>\n",
              "    <tr>\n",
              "      <th id=\"T_56e4c_level0_row20\" class=\"row_heading level0 row20\" >World Population Percentage</th>\n",
              "      <td id=\"T_56e4c_row20_col0\" class=\"data row20 col0\" >234.000000</td>\n",
              "      <td id=\"T_56e4c_row20_col1\" class=\"data row20 col1\" >0.427051</td>\n",
              "      <td id=\"T_56e4c_row20_col2\" class=\"data row20 col2\" >1.714977</td>\n",
              "      <td id=\"T_56e4c_row20_col3\" class=\"data row20 col3\" >0.000000</td>\n",
              "      <td id=\"T_56e4c_row20_col4\" class=\"data row20 col4\" >0.010000</td>\n",
              "      <td id=\"T_56e4c_row20_col5\" class=\"data row20 col5\" >0.070000</td>\n",
              "      <td id=\"T_56e4c_row20_col6\" class=\"data row20 col6\" >0.280000</td>\n",
              "      <td id=\"T_56e4c_row20_col7\" class=\"data row20 col7\" >17.880000</td>\n",
              "    </tr>\n",
              "  </tbody>\n",
              "</table>\n"
            ]
          },
          "metadata": {},
          "execution_count": 118
        }
      ]
    },
    {
      "cell_type": "code",
      "source": [
        "df.nunique()"
      ],
      "metadata": {
        "colab": {
          "base_uri": "https://localhost:8080/",
          "height": 868
        },
        "id": "fg_Aq9USLqNV",
        "outputId": "c991ad1b-2d9b-4d10-a7db-4acee4522c63"
      },
      "execution_count": 119,
      "outputs": [
        {
          "output_type": "execute_result",
          "data": {
            "text/plain": [
              "Rank                           234\n",
              "CCA3                           234\n",
              "Country/Territory              234\n",
              "Capital                        234\n",
              "Continent                        5\n",
              "2022 Population                234\n",
              "2020 Population                234\n",
              "Cre.2020VS1970                 234\n",
              "Cre.2020VS2010                 234\n",
              "Cre.2020VS2015                 234\n",
              "2015 Population                234\n",
              "Cre.2015vs2010                 234\n",
              "2010 Population                234\n",
              "2010vs2000                     234\n",
              "2000 Population                234\n",
              "2000vs1990                     234\n",
              "1990 Population                234\n",
              "1990vs1980                     234\n",
              "1980 Population                234\n",
              "1980vs1970                     234\n",
              "1970 Population                234\n",
              "Area (km²)                     233\n",
              "Density (per km²)              234\n",
              "Growth Rate                    180\n",
              "World Population Percentage     70\n",
              "dtype: int64"
            ],
            "text/html": [
              "<div>\n",
              "<style scoped>\n",
              "    .dataframe tbody tr th:only-of-type {\n",
              "        vertical-align: middle;\n",
              "    }\n",
              "\n",
              "    .dataframe tbody tr th {\n",
              "        vertical-align: top;\n",
              "    }\n",
              "\n",
              "    .dataframe thead th {\n",
              "        text-align: right;\n",
              "    }\n",
              "</style>\n",
              "<table border=\"1\" class=\"dataframe\">\n",
              "  <thead>\n",
              "    <tr style=\"text-align: right;\">\n",
              "      <th></th>\n",
              "      <th>0</th>\n",
              "    </tr>\n",
              "  </thead>\n",
              "  <tbody>\n",
              "    <tr>\n",
              "      <th>Rank</th>\n",
              "      <td>234</td>\n",
              "    </tr>\n",
              "    <tr>\n",
              "      <th>CCA3</th>\n",
              "      <td>234</td>\n",
              "    </tr>\n",
              "    <tr>\n",
              "      <th>Country/Territory</th>\n",
              "      <td>234</td>\n",
              "    </tr>\n",
              "    <tr>\n",
              "      <th>Capital</th>\n",
              "      <td>234</td>\n",
              "    </tr>\n",
              "    <tr>\n",
              "      <th>Continent</th>\n",
              "      <td>5</td>\n",
              "    </tr>\n",
              "    <tr>\n",
              "      <th>2022 Population</th>\n",
              "      <td>234</td>\n",
              "    </tr>\n",
              "    <tr>\n",
              "      <th>2020 Population</th>\n",
              "      <td>234</td>\n",
              "    </tr>\n",
              "    <tr>\n",
              "      <th>Cre.2020VS1970</th>\n",
              "      <td>234</td>\n",
              "    </tr>\n",
              "    <tr>\n",
              "      <th>Cre.2020VS2010</th>\n",
              "      <td>234</td>\n",
              "    </tr>\n",
              "    <tr>\n",
              "      <th>Cre.2020VS2015</th>\n",
              "      <td>234</td>\n",
              "    </tr>\n",
              "    <tr>\n",
              "      <th>2015 Population</th>\n",
              "      <td>234</td>\n",
              "    </tr>\n",
              "    <tr>\n",
              "      <th>Cre.2015vs2010</th>\n",
              "      <td>234</td>\n",
              "    </tr>\n",
              "    <tr>\n",
              "      <th>2010 Population</th>\n",
              "      <td>234</td>\n",
              "    </tr>\n",
              "    <tr>\n",
              "      <th>2010vs2000</th>\n",
              "      <td>234</td>\n",
              "    </tr>\n",
              "    <tr>\n",
              "      <th>2000 Population</th>\n",
              "      <td>234</td>\n",
              "    </tr>\n",
              "    <tr>\n",
              "      <th>2000vs1990</th>\n",
              "      <td>234</td>\n",
              "    </tr>\n",
              "    <tr>\n",
              "      <th>1990 Population</th>\n",
              "      <td>234</td>\n",
              "    </tr>\n",
              "    <tr>\n",
              "      <th>1990vs1980</th>\n",
              "      <td>234</td>\n",
              "    </tr>\n",
              "    <tr>\n",
              "      <th>1980 Population</th>\n",
              "      <td>234</td>\n",
              "    </tr>\n",
              "    <tr>\n",
              "      <th>1980vs1970</th>\n",
              "      <td>234</td>\n",
              "    </tr>\n",
              "    <tr>\n",
              "      <th>1970 Population</th>\n",
              "      <td>234</td>\n",
              "    </tr>\n",
              "    <tr>\n",
              "      <th>Area (km²)</th>\n",
              "      <td>233</td>\n",
              "    </tr>\n",
              "    <tr>\n",
              "      <th>Density (per km²)</th>\n",
              "      <td>234</td>\n",
              "    </tr>\n",
              "    <tr>\n",
              "      <th>Growth Rate</th>\n",
              "      <td>180</td>\n",
              "    </tr>\n",
              "    <tr>\n",
              "      <th>World Population Percentage</th>\n",
              "      <td>70</td>\n",
              "    </tr>\n",
              "  </tbody>\n",
              "</table>\n",
              "</div><br><label><b>dtype:</b> int64</label>"
            ]
          },
          "metadata": {},
          "execution_count": 119
        }
      ]
    },
    {
      "cell_type": "code",
      "source": [
        "msno.matrix(df)\n",
        "plt.title('Distribucion de valores faltantes',fontsize=30, fontstyle= 'oblique')\n",
        "plt.show()"
      ],
      "metadata": {
        "colab": {
          "base_uri": "https://localhost:8080/",
          "height": 951
        },
        "id": "BKjc9UlCL5dl",
        "outputId": "c0ee367e-b4d3-47ea-a35f-dab611c01383"
      },
      "execution_count": 120,
      "outputs": [
        {
          "output_type": "display_data",
          "data": {
            "text/plain": [
              "<Figure size 2500x1000 with 2 Axes>"
            ],
            "image/png": "[encoded data removed]"
          },
          "metadata": {}
        }
      ]
    },
    {
      "cell_type": "markdown",
      "source": [
        "## Hay un total de 234 paises y 5 continentes en este dataset\n",
        "\n",
        "##    Hay un total de 3978 observaciones\n",
        "\n",
        "##    No hay datos faltantes en este dataset\n",
        "\n"
      ],
      "metadata": {
        "id": "ixtVCRu1MmV4"
      }
    },
    {
      "cell_type": "code",
      "source": [
        "fig1 = px.choropleth(df, locations='CCA3', color='Growth Rate', hover_name='Country/Territory')\n",
        "fig1.update_layout(title_text='Población mundial', title_x=0.5)\n",
        "fig1.update_layout(geo=dict(showframe=False, showcoastlines=False, projection_type='equirectangular'))\n",
        "fig1.update_layout(legend_title_text='Tasa de crecimiento poblacional')\n",
        "fig1.update_layout(legend=dict(orientation='h', yanchor='bottom', y=1.02, xanchor='right', x=1))\n",
        "fig1.update_layout(margin=dict(l=0, r=0, t=0, b=0))\n",
        "fig1.update_layout(height=600)\n",
        "fig1.update_layout(width=1000)\n",
        "fig1.update_layout(title_font=dict(size=24))\n",
        "fig1.update_layout(legend_font=dict(size=16))\n",
        "fig1.update_layout(legend_itemclick=False)\n",
        "fig1.update_layout(legend_itemdoubleclick=False)\n",
        "fig1.update_layout(legend_itemsizing='constant')\n",
        "fig1.update_layout(legend_itemwidth=30)\n",
        "fig1.show()"
      ],
      "metadata": {
        "colab": {
          "base_uri": "https://localhost:8080/",
          "height": 617
        },
        "id": "3eR_fTabNZB0",
        "outputId": "08ce3330-fe4e-4272-a8ab-adfcbeae915f"
      },
      "execution_count": 121,
      "outputs": [
        {
          "output_type": "display_data",
          "data": {
            "application/vnd.plotly.v1+json": {
              "data": [
                {
                  "coloraxis": "coloraxis",
                  "geo": "geo",
                  "hovertemplate": "<b>%{hovertext}</b><br><br>CCA3=%{location}<br>Growth Rate=%{z}<extra></extra>",
                  "hovertext": [
                    "Afghanistan",
                    "Albania",
                    "Algeria",
                    "American Samoa",
                    "Andorra",
                    "Angola",
                    "Anguilla",
                    "Antigua and Barbuda",
                    "Argentina",
                    "Armenia",
                    "Aruba",
                    "Australia",
                    "Austria",
                    "Azerbaijan",
                    "Bahamas",
                    "Bahrain",
                    "Bangladesh",
                    "Barbados",
                    "Belarus",
                    "Belgium",
                    "Belize",
                    "Benin",
                    "Bermuda",
                    "Bhutan",
                    "Bolivia",
                    "Bosnia and Herzegovina",
                    "Botswana",
                    "Brazil",
                    "British Virgin Islands",
                    "Brunei",
                    "Bulgaria",
                    "Burkina Faso",
                    "Burundi",
                    "Cambodia",
                    "Cameroon",
                    "Canada",
                    "Cape Verde",
                    "Cayman Islands",
                    "Central African Republic",
                    "Chad",
                    "Chile",
                    "China",
                    "Colombia",
                    "Comoros",
                    "Cook Islands",
                    "Costa Rica",
                    "Croatia",
                    "Cuba",
                    "Curacao",
                    "Cyprus",
                    "Czech Republic",
                    "Denmark",
                    "Djibouti",
                    "Dominica",
                    "Dominican Republic",
                    "DR Congo",
                    "Ecuador",
                    "Egypt",
                    "El Salvador",
                    "Equatorial Guinea",
                    "Eritrea",
                    "Estonia",
                    "Eswatini",
                    "Ethiopia",
                    "Falkland Islands",
                    "Faroe Islands",
                    "Fiji",
                    "Finland",
                    "France",
                    "French Guiana",
                    "French Polynesia",
                    "Gabon",
                    "Gambia",
                    "Georgia",
                    "Germany",
                    "Ghana",
                    "Gibraltar",
                    "Greece",
                    "Greenland",
                    "Grenada",
                    "Guadeloupe",
                    "Guam",
                    "Guatemala",
                    "Guernsey",
                    "Guinea",
                    "Guinea-Bissau",
                    "Guyana",
                    "Haiti",
                    "Honduras",
                    "Hong Kong",
                    "Hungary",
                    "Iceland",
                    "India",
                    "Indonesia",
                    "Iran",
                    "Iraq",
                    "Ireland",
                    "Isle of Man",
                    "Israel",
                    "Italy",
                    "Ivory Coast",
                    "Jamaica",
                    "Japan",
                    "Jersey",
                    "Jordan",
                    "Kazakhstan",
                    "Kenya",
                    "Kiribati",
                    "Kuwait",
                    "Kyrgyzstan",
                    "Laos",
                    "Latvia",
                    "Lebanon",
                    "Lesotho",
                    "Liberia",
                    "Libya",
                    "Liechtenstein",
                    "Lithuania",
                    "Luxembourg",
                    "Macau",
                    "Madagascar",
                    "Malawi",
                    "Malaysia",
                    "Maldives",
                    "Mali",
                    "Malta",
                    "Marshall Islands",
                    "Martinique",
                    "Mauritania",
                    "Mauritius",
                    "Mayotte",
                    "Mexico",
                    "Micronesia",
                    "Moldova",
                    "Monaco",
                    "Mongolia",
                    "Montenegro",
                    "Montserrat",
                    "Morocco",
                    "Mozambique",
                    "Myanmar",
                    "Namibia",
                    "Nauru",
                    "Nepal",
                    "Netherlands",
                    "New Caledonia",
                    "New Zealand",
                    "Nicaragua",
                    "Niger",
                    "Nigeria",
                    "Niue",
                    "North Korea",
                    "North Macedonia",
                    "Northern Mariana Islands",
                    "Norway",
                    "Oman",
                    "Pakistan",
                    "Palau",
                    "Palestine",
                    "Panama",
                    "Papua New Guinea",
                    "Paraguay",
                    "Peru",
                    "Philippines",
                    "Poland",
                    "Portugal",
                    "Puerto Rico",
                    "Qatar",
                    "Republic of the Congo",
                    "Reunion",
                    "Romania",
                    "Russia",
                    "Rwanda",
                    "Saint Barthelemy",
                    "Saint Kitts and Nevis",
                    "Saint Lucia",
                    "Saint Martin",
                    "Saint Pierre and Miquelon",
                    "Saint Vincent and the Grenadines",
                    "Samoa",
                    "San Marino",
                    "Sao Tome and Principe",
                    "Saudi Arabia",
                    "Senegal",
                    "Serbia",
                    "Seychelles",
                    "Sierra Leone",
                    "Singapore",
                    "Sint Maarten",
                    "Slovakia",
                    "Slovenia",
                    "Solomon Islands",
                    "Somalia",
                    "South Africa",
                    "South Korea",
                    "South Sudan",
                    "Spain",
                    "Sri Lanka",
                    "Sudan",
                    "Suriname",
                    "Sweden",
                    "Switzerland",
                    "Syria",
                    "Taiwan",
                    "Tajikistan",
                    "Tanzania",
                    "Thailand",
                    "Timor-Leste",
                    "Togo",
                    "Tokelau",
                    "Tonga",
                    "Trinidad and Tobago",
                    "Tunisia",
                    "Turkey",
                    "Turkmenistan",
                    "Turks and Caicos Islands",
                    "Tuvalu",
                    "Uganda",
                    "Ukraine",
                    "United Arab Emirates",
                    "United Kingdom",
                    "United States",
                    "United States Virgin Islands",
                    "Uruguay",
                    "Uzbekistan",
                    "Vanuatu",
                    "Vatican City",
                    "Venezuela",
                    "Vietnam",
                    "Wallis and Futuna",
                    "Western Sahara",
                    "Yemen",
                    "Zambia",
                    "Zimbabwe"
                  ],
                  "locations": [
                    "AFG",
                    "ALB",
                    "DZA",
                    "ASM",
                    "AND",
                    "AGO",
                    "AIA",
                    "ATG",
                    "ARG",
                    "ARM",
                    "ABW",
                    "AUS",
                    "AUT",
                    "AZE",
                    "BHS",
                    "BHR",
                    "BGD",
                    "BRB",
                    "BLR",
                    "BEL",
                    "BLZ",
                    "BEN",
                    "BMU",
                    "BTN",
                    "BOL",
                    "BIH",
                    "BWA",
                    "BRA",
                    "VGB",
                    "BRN",
                    "BGR",
                    "BFA",
                    "BDI",
                    "KHM",
                    "CMR",
                    "CAN",
                    "CPV",
                    "CYM",
                    "CAF",
                    "TCD",
                    "CHL",
                    "CHN",
                    "COL",
                    "COM",
                    "COK",
                    "CRI",
                    "HRV",
                    "CUB",
                    "CUW",
                    "CYP",
                    "CZE",
                    "DNK",
                    "DJI",
                    "DMA",
                    "DOM",
                    "COD",
                    "ECU",
                    "EGY",
                    "SLV",
                    "GNQ",
                    "ERI",
                    "EST",
                    "SWZ",
                    "ETH",
                    "FLK",
                    "FRO",
                    "FJI",
                    "FIN",
                    "FRA",
                    "GUF",
                    "PYF",
                    "GAB",
                    "GMB",
                    "GEO",
                    "DEU",
                    "GHA",
                    "GIB",
                    "GRC",
                    "GRL",
                    "GRD",
                    "GLP",
                    "GUM",
                    "GTM",
                    "GGY",
                    "GIN",
                    "GNB",
                    "GUY",
                    "HTI",
                    "HND",
                    "HKG",
                    "HUN",
                    "ISL",
                    "IND",
                    "IDN",
                    "IRN",
                    "IRQ",
                    "IRL",
                    "IMN",
                    "ISR",
                    "ITA",
                    "CIV",
                    "JAM",
                    "JPN",
                    "JEY",
                    "JOR",
                    "KAZ",
                    "KEN",
                    "KIR",
                    "KWT",
                    "KGZ",
                    "LAO",
                    "LVA",
                    "LBN",
                    "LSO",
                    "LBR",
                    "LBY",
                    "LIE",
                    "LTU",
                    "LUX",
                    "MAC",
                    "MDG",
                    "MWI",
                    "MYS",
                    "MDV",
                    "MLI",
                    "MLT",
                    "MHL",
                    "MTQ",
                    "MRT",
                    "MUS",
                    "MYT",
                    "MEX",
                    "FSM",
                    "MDA",
                    "MCO",
                    "MNG",
                    "MNE",
                    "MSR",
                    "MAR",
                    "MOZ",
                    "MMR",
                    "NAM",
                    "NRU",
                    "NPL",
                    "NLD",
                    "NCL",
                    "NZL",
                    "NIC",
                    "NER",
                    "NGA",
                    "NIU",
                    "PRK",
                    "MKD",
                    "NFK",
                    "NOR",
                    "OMN",
                    "PAK",
                    "PLW",
                    "PSE",
                    "PAN",
                    "PNG",
                    "PRY",
                    "PER",
                    "PHL",
                    "POL",
                    "PRT",
                    "PRI",
                    "QAT",
                    "COG",
                    "REU",
                    "ROU",
                    "RUS",
                    "RWA",
                    "BLM",
                    "KNA",
                    "LCA",
                    "MAF",
                    "SPM",
                    "VCT",
                    "WSM",
                    "SMR",
                    "STP",
                    "SAU",
                    "SEN",
                    "SRB",
                    "SYC",
                    "SLE",
                    "SGP",
                    "SXM",
                    "SVK",
                    "SVN",
                    "SLB",
                    "SOM",
                    "ZAF",
                    "KOR",
                    "SSD",
                    "ESP",
                    "LKA",
                    "SDN",
                    "SUR",
                    "SWE",
                    "CHE",
                    "SYR",
                    "TWN",
                    "TJK",
                    "TZA",
                    "THA",
                    "TLS",
                    "TGO",
                    "TKL",
                    "TON",
                    "TTO",
                    "TUN",
                    "TUR",
                    "TKM",
                    "TCA",
                    "TUV",
                    "UGA",
                    "UKR",
                    "ARE",
                    "GBR",
                    "USA",
                    "VIR",
                    "URY",
                    "UZB",
                    "VUT",
                    "VAT",
                    "VEN",
                    "VNM",
                    "WLF",
                    "ESH",
                    "YEM",
                    "ZMB",
                    "ZWE"
                  ],
                  "name": "",
                  "z": [
                    1.0257,
                    0.9957,
                    1.0164,
                    0.9831,
                    1.01,
                    1.0315,
                    1.0066,
                    1.0058,
                    1.0052,
                    0.9962,
                    0.9991,
                    1.0099,
                    1.002,
                    1.0044,
                    1.0051,
                    1.0061,
                    1.0108,
                    1.0015,
                    0.9955,
                    1.0038,
                    1.0131,
                    1.0274,
                    1,
                    1.0064,
                    1.012,
                    0.9886,
                    1.0162,
                    1.0046,
                    1.0059,
                    1.0081,
                    0.9849,
                    1.0259,
                    1.027,
                    1.0108,
                    1.0263,
                    1.0078,
                    1.0089,
                    1.0084,
                    1.0224,
                    1.0316,
                    1.0057,
                    1,
                    1.0069,
                    1.0184,
                    1.0005,
                    1.0052,
                    0.9927,
                    0.9961,
                    1.0043,
                    1.0059,
                    0.9984,
                    1.0048,
                    1.0138,
                    1.0045,
                    1.01,
                    1.0325,
                    1.0114,
                    1.0158,
                    1.0035,
                    1.0247,
                    1.0176,
                    0.998,
                    1.0079,
                    1.0257,
                    1.0043,
                    1.0038,
                    1.0056,
                    1.0009,
                    1.0015,
                    1.0239,
                    1.0074,
                    1.0204,
                    1.025,
                    0.9964,
                    0.9995,
                    1.0196,
                    0.9994,
                    0.9942,
                    1.004,
                    1.0066,
                    0.9992,
                    1.0073,
                    1.0134,
                    1.0037,
                    1.0242,
                    1.0218,
                    1.0052,
                    1.012,
                    1.015,
                    0.9992,
                    1.0265,
                    1.0069,
                    1.0068,
                    1.0064,
                    1.0071,
                    1.0221,
                    1.0073,
                    1.003,
                    1.0155,
                    0.9966,
                    1.0248,
                    0.9999,
                    0.9947,
                    1.0106,
                    1.0123,
                    1.0105,
                    1.0193,
                    1.0183,
                    1.0044,
                    1.0158,
                    1.0141,
                    0.9876,
                    0.9816,
                    1.0107,
                    1.021,
                    1.0114,
                    1.0074,
                    0.9869,
                    1.0129,
                    1.0125,
                    1.0241,
                    1.0259,
                    1.0109,
                    1.0045,
                    1.0314,
                    1.0124,
                    0.9886,
                    0.9965,
                    1.0263,
                    1.0004,
                    1.0319,
                    1.0063,
                    1.0091,
                    1.0691,
                    0.9941,
                    1.0151,
                    0.9988,
                    0.9939,
                    1.0103,
                    1.0278,
                    1.0071,
                    1.0146,
                    1.0125,
                    1.0171,
                    1.0036,
                    1.0075,
                    1.0108,
                    1.0143,
                    1.0378,
                    1.0241,
                    0.9985,
                    1.0038,
                    0.9954,
                    1.0014,
                    1.0058,
                    1.0123,
                    1.0191,
                    1.0017,
                    1.0227,
                    1.0132,
                    1.0194,
                    1.0115,
                    1.0099,
                    1.0147,
                    1.0404,
                    0.9981,
                    0.9989,
                    1.0026,
                    1.0231,
                    1.0082,
                    1.0171,
                    0.9973,
                    1.0234,
                    1.0098,
                    1.0011,
                    1.0011,
                    0.9951,
                    0.9964,
                    0.9963,
                    1.0165,
                    0.9975,
                    1.0192,
                    1.0128,
                    1.0261,
                    0.9897,
                    1.0061,
                    1.022,
                    1.0058,
                    1.003,
                    1.0359,
                    1.0002,
                    1.0232,
                    1.0312,
                    1.0084,
                    0.9997,
                    1.0153,
                    1.0015,
                    1.0027,
                    1.0267,
                    1.0082,
                    1.0079,
                    1.0056,
                    1.0376,
                    1.0014,
                    1.0208,
                    1.03,
                    1.0013,
                    1.0154,
                    1.0236,
                    1.0119,
                    1.0079,
                    1.0035,
                    1.0076,
                    1.0067,
                    1.014,
                    1.0131,
                    1.0096,
                    1.0304,
                    0.912,
                    1.0081,
                    1.0034,
                    1.0038,
                    0.9937,
                    0.999,
                    1.016,
                    1.0238,
                    0.998,
                    1.0036,
                    1.0074,
                    0.9953,
                    1.0184,
                    1.0217,
                    1.028,
                    1.0204
                  ],
                  "type": "choropleth"
                }
              ],
              "layout": {
                "template": {
                  "data": {
                    "histogram2dcontour": [
                      {
                        "type": "histogram2dcontour",
                        "colorbar": {
                          "outlinewidth": 0,
                          "ticks": ""
                        },
                        "colorscale": [
                          [
                            0,
                            "#0d0887"
                          ],
                          [
                            0.1111111111111111,
                            "#46039f"
                          ],
                          [
                            0.2222222222222222,
                            "#7201a8"
                          ],
                          [
                            0.3333333333333333,
                            "#9c179e"
                          ],
                          [
                            0.4444444444444444,
                            "#bd3786"
                          ],
                          [
                            0.5555555555555556,
                            "#d8576b"
                          ],
                          [
                            0.6666666666666666,
                            "#ed7953"
                          ],
                          [
                            0.7777777777777778,
                            "#fb9f3a"
                          ],
                          [
                            0.8888888888888888,
                            "#fdca26"
                          ],
                          [
                            1,
                            "#f0f921"
                          ]
                        ]
                      }
                    ],
                    "choropleth": [
                      {
                        "type": "choropleth",
                        "colorbar": {
                          "outlinewidth": 0,
                          "ticks": ""
                        }
                      }
                    ],
                    "histogram2d": [
                      {
                        "type": "histogram2d",
                        "colorbar": {
                          "outlinewidth": 0,
                          "ticks": ""
                        },
                        "colorscale": [
                          [
                            0,
                            "#0d0887"
                          ],
                          [
                            0.1111111111111111,
                            "#46039f"
                          ],
                          [
                            0.2222222222222222,
                            "#7201a8"
                          ],
                          [
                            0.3333333333333333,
                            "#9c179e"
                          ],
                          [
                            0.4444444444444444,
                            "#bd3786"
                          ],
                          [
                            0.5555555555555556,
                            "#d8576b"
                          ],
                          [
                            0.6666666666666666,
                            "#ed7953"
                          ],
                          [
                            0.7777777777777778,
                            "#fb9f3a"
                          ],
                          [
                            0.8888888888888888,
                            "#fdca26"
                          ],
                          [
                            1,
                            "#f0f921"
                          ]
                        ]
                      }
                    ],
                    "heatmap": [
                      {
                        "type": "heatmap",
                        "colorbar": {
                          "outlinewidth": 0,
                          "ticks": ""
                        },
                        "colorscale": [
                          [
                            0,
                            "#0d0887"
                          ],
                          [
                            0.1111111111111111,
                            "#46039f"
                          ],
                          [
                            0.2222222222222222,
                            "#7201a8"
                          ],
                          [
                            0.3333333333333333,
                            "#9c179e"
                          ],
                          [
                            0.4444444444444444,
                            "#bd3786"
                          ],
                          [
                            0.5555555555555556,
                            "#d8576b"
                          ],
                          [
                            0.6666666666666666,
                            "#ed7953"
                          ],
                          [
                            0.7777777777777778,
                            "#fb9f3a"
                          ],
                          [
                            0.8888888888888888,
                            "#fdca26"
                          ],
                          [
                            1,
                            "#f0f921"
                          ]
                        ]
                      }
                    ],
                    "heatmapgl": [
                      {
                        "type": "heatmapgl",
                        "colorbar": {
                          "outlinewidth": 0,
                          "ticks": ""
                        },
                        "colorscale": [
                          [
                            0,
                            "#0d0887"
                          ],
                          [
                            0.1111111111111111,
                            "#46039f"
                          ],
                          [
                            0.2222222222222222,
                            "#7201a8"
                          ],
                          [
                            0.3333333333333333,
                            "#9c179e"
                          ],
                          [
                            0.4444444444444444,
                            "#bd3786"
                          ],
                          [
                            0.5555555555555556,
                            "#d8576b"
                          ],
                          [
                            0.6666666666666666,
                            "#ed7953"
                          ],
                          [
                            0.7777777777777778,
                            "#fb9f3a"
                          ],
                          [
                            0.8888888888888888,
                            "#fdca26"
                          ],
                          [
                            1,
                            "#f0f921"
                          ]
                        ]
                      }
                    ],
                    "contourcarpet": [
                      {
                        "type": "contourcarpet",
                        "colorbar": {
                          "outlinewidth": 0,
                          "ticks": ""
                        }
                      }
                    ],
                    "contour": [
                      {
                        "type": "contour",
                        "colorbar": {
                          "outlinewidth": 0,
                          "ticks": ""
                        },
                        "colorscale": [
                          [
                            0,
                            "#0d0887"
                          ],
                          [
                            0.1111111111111111,
                            "#46039f"
                          ],
                          [
                            0.2222222222222222,
                            "#7201a8"
                          ],
                          [
                            0.3333333333333333,
                            "#9c179e"
                          ],
                          [
                            0.4444444444444444,
                            "#bd3786"
                          ],
                          [
                            0.5555555555555556,
                            "#d8576b"
                          ],
                          [
                            0.6666666666666666,
                            "#ed7953"
                          ],
                          [
                            0.7777777777777778,
                            "#fb9f3a"
                          ],
                          [
                            0.8888888888888888,
                            "#fdca26"
                          ],
                          [
                            1,
                            "#f0f921"
                          ]
                        ]
                      }
                    ],
                    "surface": [
                      {
                        "type": "surface",
                        "colorbar": {
                          "outlinewidth": 0,
                          "ticks": ""
                        },
                        "colorscale": [
                          [
                            0,
                            "#0d0887"
                          ],
                          [
                            0.1111111111111111,
                            "#46039f"
                          ],
                          [
                            0.2222222222222222,
                            "#7201a8"
                          ],
                          [
                            0.3333333333333333,
                            "#9c179e"
                          ],
                          [
                            0.4444444444444444,
                            "#bd3786"
                          ],
                          [
                            0.5555555555555556,
                            "#d8576b"
                          ],
                          [
                            0.6666666666666666,
                            "#ed7953"
                          ],
                          [
                            0.7777777777777778,
                            "#fb9f3a"
                          ],
                          [
                            0.8888888888888888,
                            "#fdca26"
                          ],
                          [
                            1,
                            "#f0f921"
                          ]
                        ]
                      }
                    ],
                    "mesh3d": [
                      {
                        "type": "mesh3d",
                        "colorbar": {
                          "outlinewidth": 0,
                          "ticks": ""
                        }
                      }
                    ],
                    "scatter": [
                      {
                        "fillpattern": {
                          "fillmode": "overlay",
                          "size": 10,
                          "solidity": 0.2
                        },
                        "type": "scatter"
                      }
                    ],
                    "parcoords": [
                      {
                        "type": "parcoords",
                        "line": {
                          "colorbar": {
                            "outlinewidth": 0,
                            "ticks": ""
                          }
                        }
                      }
                    ],
                    "scatterpolargl": [
                      {
                        "type": "scatterpolargl",
                        "marker": {
                          "colorbar": {
                            "outlinewidth": 0,
                            "ticks": ""
                          }
                        }
                      }
                    ],
                    "bar": [
                      {
                        "error_x": {
                          "color": "#2a3f5f"
                        },
                        "error_y": {
                          "color": "#2a3f5f"
                        },
                        "marker": {
                          "line": {
                            "color": "#E5ECF6",
                            "width": 0.5
                          },
                          "pattern": {
                            "fillmode": "overlay",
                            "size": 10,
                            "solidity": 0.2
                          }
                        },
                        "type": "bar"
                      }
                    ],
                    "scattergeo": [
                      {
                        "type": "scattergeo",
                        "marker": {
                          "colorbar": {
                            "outlinewidth": 0,
                            "ticks": ""
                          }
                        }
                      }
                    ],
                    "scatterpolar": [
                      {
                        "type": "scatterpolar",
                        "marker": {
                          "colorbar": {
                            "outlinewidth": 0,
                            "ticks": ""
                          }
                        }
                      }
                    ],
                    "histogram": [
                      {
                        "marker": {
                          "pattern": {
                            "fillmode": "overlay",
                            "size": 10,
                            "solidity": 0.2
                          }
                        },
                        "type": "histogram"
                      }
                    ],
                    "scattergl": [
                      {
                        "type": "scattergl",
                        "marker": {
                          "colorbar": {
                            "outlinewidth": 0,
                            "ticks": ""
                          }
                        }
                      }
                    ],
                    "scatter3d": [
                      {
                        "type": "scatter3d",
                        "line": {
                          "colorbar": {
                            "outlinewidth": 0,
                            "ticks": ""
                          }
                        },
                        "marker": {
                          "colorbar": {
                            "outlinewidth": 0,
                            "ticks": ""
                          }
                        }
                      }
                    ],
                    "scattermapbox": [
                      {
                        "type": "scattermapbox",
                        "marker": {
                          "colorbar": {
                            "outlinewidth": 0,
                            "ticks": ""
                          }
                        }
                      }
                    ],
                    "scatterternary": [
                      {
                        "type": "scatterternary",
                        "marker": {
                          "colorbar": {
                            "outlinewidth": 0,
                            "ticks": ""
                          }
                        }
                      }
                    ],
                    "scattercarpet": [
                      {
                        "type": "scattercarpet",
                        "marker": {
                          "colorbar": {
                            "outlinewidth": 0,
                            "ticks": ""
                          }
                        }
                      }
                    ],
                    "carpet": [
                      {
                        "aaxis": {
                          "endlinecolor": "#2a3f5f",
                          "gridcolor": "white",
                          "linecolor": "white",
                          "minorgridcolor": "white",
                          "startlinecolor": "#2a3f5f"
                        },
                        "baxis": {
                          "endlinecolor": "#2a3f5f",
                          "gridcolor": "white",
                          "linecolor": "white",
                          "minorgridcolor": "white",
                          "startlinecolor": "#2a3f5f"
                        },
                        "type": "carpet"
                      }
                    ],
                    "table": [
                      {
                        "cells": {
                          "fill": {
                            "color": "#EBF0F8"
                          },
                          "line": {
                            "color": "white"
                          }
                        },
                        "header": {
                          "fill": {
                            "color": "#C8D4E3"
                          },
                          "line": {
                            "color": "white"
                          }
                        },
                        "type": "table"
                      }
                    ],
                    "barpolar": [
                      {
                        "marker": {
                          "line": {
                            "color": "#E5ECF6",
                            "width": 0.5
                          },
                          "pattern": {
                            "fillmode": "overlay",
                            "size": 10,
                            "solidity": 0.2
                          }
                        },
                        "type": "barpolar"
                      }
                    ],
                    "pie": [
                      {
                        "automargin": true,
                        "type": "pie"
                      }
                    ]
                  },
                  "layout": {
                    "autotypenumbers": "strict",
                    "colorway": [
                      "#636efa",
                      "#EF553B",
                      "#00cc96",
                      "#ab63fa",
                      "#FFA15A",
                      "#19d3f3",
                      "#FF6692",
                      "#B6E880",
                      "#FF97FF",
                      "#FECB52"
                    ],
                    "font": {
                      "color": "#2a3f5f"
                    },
                    "hovermode": "closest",
                    "hoverlabel": {
                      "align": "left"
                    },
                    "paper_bgcolor": "white",
                    "plot_bgcolor": "#E5ECF6",
                    "polar": {
                      "bgcolor": "#E5ECF6",
                      "angularaxis": {
                        "gridcolor": "white",
                        "linecolor": "white",
                        "ticks": ""
                      },
                      "radialaxis": {
                        "gridcolor": "white",
                        "linecolor": "white",
                        "ticks": ""
                      }
                    },
                    "ternary": {
                      "bgcolor": "#E5ECF6",
                      "aaxis": {
                        "gridcolor": "white",
                        "linecolor": "white",
                        "ticks": ""
                      },
                      "baxis": {
                        "gridcolor": "white",
                        "linecolor": "white",
                        "ticks": ""
                      },
                      "caxis": {
                        "gridcolor": "white",
                        "linecolor": "white",
                        "ticks": ""
                      }
                    },
                    "coloraxis": {
                      "colorbar": {
                        "outlinewidth": 0,
                        "ticks": ""
                      }
                    },
                    "colorscale": {
                      "sequential": [
                        [
                          0,
                          "#0d0887"
                        ],
                        [
                          0.1111111111111111,
                          "#46039f"
                        ],
                        [
                          0.2222222222222222,
                          "#7201a8"
                        ],
                        [
                          0.3333333333333333,
                          "#9c179e"
                        ],
                        [
                          0.4444444444444444,
                          "#bd3786"
                        ],
                        [
                          0.5555555555555556,
                          "#d8576b"
                        ],
                        [
                          0.6666666666666666,
                          "#ed7953"
                        ],
                        [
                          0.7777777777777778,
                          "#fb9f3a"
                        ],
                        [
                          0.8888888888888888,
                          "#fdca26"
                        ],
                        [
                          1,
                          "#f0f921"
                        ]
                      ],
                      "sequentialminus": [
                        [
                          0,
                          "#0d0887"
                        ],
                        [
                          0.1111111111111111,
                          "#46039f"
                        ],
                        [
                          0.2222222222222222,
                          "#7201a8"
                        ],
                        [
                          0.3333333333333333,
                          "#9c179e"
                        ],
                        [
                          0.4444444444444444,
                          "#bd3786"
                        ],
                        [
                          0.5555555555555556,
                          "#d8576b"
                        ],
                        [
                          0.6666666666666666,
                          "#ed7953"
                        ],
                        [
                          0.7777777777777778,
                          "#fb9f3a"
                        ],
                        [
                          0.8888888888888888,
                          "#fdca26"
                        ],
                        [
                          1,
                          "#f0f921"
                        ]
                      ],
                      "diverging": [
                        [
                          0,
                          "#8e0152"
                        ],
                        [
                          0.1,
                          "#c51b7d"
                        ],
                        [
                          0.2,
                          "#de77ae"
                        ],
                        [
                          0.3,
                          "#f1b6da"
                        ],
                        [
                          0.4,
                          "#fde0ef"
                        ],
                        [
                          0.5,
                          "#f7f7f7"
                        ],
                        [
                          0.6,
                          "#e6f5d0"
                        ],
                        [
                          0.7,
                          "#b8e186"
                        ],
                        [
                          0.8,
                          "#7fbc41"
                        ],
                        [
                          0.9,
                          "#4d9221"
                        ],
                        [
                          1,
                          "#276419"
                        ]
                      ]
                    },
                    "xaxis": {
                      "gridcolor": "white",
                      "linecolor": "white",
                      "ticks": "",
                      "title": {
                        "standoff": 15
                      },
                      "zerolinecolor": "white",
                      "automargin": true,
                      "zerolinewidth": 2
                    },
                    "yaxis": {
                      "gridcolor": "white",
                      "linecolor": "white",
                      "ticks": "",
                      "title": {
                        "standoff": 15
                      },
                      "zerolinecolor": "white",
                      "automargin": true,
                      "zerolinewidth": 2
                    },
                    "scene": {
                      "xaxis": {
                        "backgroundcolor": "#E5ECF6",
                        "gridcolor": "white",
                        "linecolor": "white",
                        "showbackground": true,
                        "ticks": "",
                        "zerolinecolor": "white",
                        "gridwidth": 2
                      },
                      "yaxis": {
                        "backgroundcolor": "#E5ECF6",
                        "gridcolor": "white",
                        "linecolor": "white",
                        "showbackground": true,
                        "ticks": "",
                        "zerolinecolor": "white",
                        "gridwidth": 2
                      },
                      "zaxis": {
                        "backgroundcolor": "#E5ECF6",
                        "gridcolor": "white",
                        "linecolor": "white",
                        "showbackground": true,
                        "ticks": "",
                        "zerolinecolor": "white",
                        "gridwidth": 2
                      }
                    },
                    "shapedefaults": {
                      "line": {
                        "color": "#2a3f5f"
                      }
                    },
                    "annotationdefaults": {
                      "arrowcolor": "#2a3f5f",
                      "arrowhead": 0,
                      "arrowwidth": 1
                    },
                    "geo": {
                      "bgcolor": "white",
                      "landcolor": "#E5ECF6",
                      "subunitcolor": "white",
                      "showland": true,
                      "showlakes": true,
                      "lakecolor": "white"
                    },
                    "title": {
                      "x": 0.05
                    },
                    "mapbox": {
                      "style": "light"
                    }
                  }
                },
                "geo": {
                  "domain": {
                    "x": [
                      0,
                      1
                    ],
                    "y": [
                      0,
                      1
                    ]
                  },
                  "center": {},
                  "projection": {
                    "type": "equirectangular"
                  },
                  "showframe": false,
                  "showcoastlines": false
                },
                "coloraxis": {
                  "colorbar": {
                    "title": {
                      "text": "Growth Rate"
                    }
                  },
                  "colorscale": [
                    [
                      0,
                      "#0d0887"
                    ],
                    [
                      0.1111111111111111,
                      "#46039f"
                    ],
                    [
                      0.2222222222222222,
                      "#7201a8"
                    ],
                    [
                      0.3333333333333333,
                      "#9c179e"
                    ],
                    [
                      0.4444444444444444,
                      "#bd3786"
                    ],
                    [
                      0.5555555555555556,
                      "#d8576b"
                    ],
                    [
                      0.6666666666666666,
                      "#ed7953"
                    ],
                    [
                      0.7777777777777778,
                      "#fb9f3a"
                    ],
                    [
                      0.8888888888888888,
                      "#fdca26"
                    ],
                    [
                      1,
                      "#f0f921"
                    ]
                  ]
                },
                "legend": {
                  "tracegroupgap": 0,
                  "title": {
                    "text": "Tasa de crecimiento poblacional"
                  },
                  "orientation": "h",
                  "yanchor": "bottom",
                  "y": 1.02,
                  "xanchor": "right",
                  "x": 1,
                  "font": {
                    "size": 16
                  },
                  "itemclick": false,
                  "itemdoubleclick": false,
                  "itemsizing": "constant",
                  "itemwidth": 30
                },
                "margin": {
                  "t": 0,
                  "l": 0,
                  "r": 0,
                  "b": 0
                },
                "title": {
                  "text": "Población mundial",
                  "x": 0.5,
                  "font": {
                    "size": 24
                  }
                },
                "height": 600,
                "width": 1000
              },
              "config": {
                "plotlyServerURL": "https://plot.ly"
              }
            },
            "text/html": [
              "<div>                            <div id=\"398494d0-f9d7-487c-a06d-fe01d221f0a8\" class=\"plotly-graph-div\" style=\"height:600px; width:1000px;\"></div>            <script type=\"text/javascript\">                require([\"plotly\"], function(Plotly) {                    window.PLOTLYENV=window.PLOTLYENV || {};                                    if (document.getElementById(\"398494d0-f9d7-487c-a06d-fe01d221f0a8\")) {                    Plotly.newPlot(                        \"398494d0-f9d7-487c-a06d-fe01d221f0a8\",                        [{\"coloraxis\":\"coloraxis\",\"geo\":\"geo\",\"hovertemplate\":\"\\u003cb\\u003e%{hovertext}\\u003c\\u002fb\\u003e\\u003cbr\\u003e\\u003cbr\\u003eCCA3=%{location}\\u003cbr\\u003eGrowth Rate=%{z}\\u003cextra\\u003e\\u003c\\u002fextra\\u003e\",\"hovertext\":[\"Afghanistan\",\"Albania\",\"Algeria\",\"American Samoa\",\"Andorra\",\"Angola\",\"Anguilla\",\"Antigua and Barbuda\",\"Argentina\",\"Armenia\",\"Aruba\",\"Australia\",\"Austria\",\"Azerbaijan\",\"Bahamas\",\"Bahrain\",\"Bangladesh\",\"Barbados\",\"Belarus\",\"Belgium\",\"Belize\",\"Benin\",\"Bermuda\",\"Bhutan\",\"Bolivia\",\"Bosnia and Herzegovina\",\"Botswana\",\"Brazil\",\"British Virgin Islands\",\"Brunei\",\"Bulgaria\",\"Burkina Faso\",\"Burundi\",\"Cambodia\",\"Cameroon\",\"Canada\",\"Cape Verde\",\"Cayman Islands\",\"Central African Republic\",\"Chad\",\"Chile\",\"China\",\"Colombia\",\"Comoros\",\"Cook Islands\",\"Costa Rica\",\"Croatia\",\"Cuba\",\"Curacao\",\"Cyprus\",\"Czech Republic\",\"Denmark\",\"Djibouti\",\"Dominica\",\"Dominican Republic\",\"DR Congo\",\"Ecuador\",\"Egypt\",\"El Salvador\",\"Equatorial Guinea\",\"Eritrea\",\"Estonia\",\"Eswatini\",\"Ethiopia\",\"Falkland Islands\",\"Faroe Islands\",\"Fiji\",\"Finland\",\"France\",\"French Guiana\",\"French Polynesia\",\"Gabon\",\"Gambia\",\"Georgia\",\"Germany\",\"Ghana\",\"Gibraltar\",\"Greece\",\"Greenland\",\"Grenada\",\"Guadeloupe\",\"Guam\",\"Guatemala\",\"Guernsey\",\"Guinea\",\"Guinea-Bissau\",\"Guyana\",\"Haiti\",\"Honduras\",\"Hong Kong\",\"Hungary\",\"Iceland\",\"India\",\"Indonesia\",\"Iran\",\"Iraq\",\"Ireland\",\"Isle of Man\",\"Israel\",\"Italy\",\"Ivory Coast\",\"Jamaica\",\"Japan\",\"Jersey\",\"Jordan\",\"Kazakhstan\",\"Kenya\",\"Kiribati\",\"Kuwait\",\"Kyrgyzstan\",\"Laos\",\"Latvia\",\"Lebanon\",\"Lesotho\",\"Liberia\",\"Libya\",\"Liechtenstein\",\"Lithuania\",\"Luxembourg\",\"Macau\",\"Madagascar\",\"Malawi\",\"Malaysia\",\"Maldives\",\"Mali\",\"Malta\",\"Marshall Islands\",\"Martinique\",\"Mauritania\",\"Mauritius\",\"Mayotte\",\"Mexico\",\"Micronesia\",\"Moldova\",\"Monaco\",\"Mongolia\",\"Montenegro\",\"Montserrat\",\"Morocco\",\"Mozambique\",\"Myanmar\",\"Namibia\",\"Nauru\",\"Nepal\",\"Netherlands\",\"New Caledonia\",\"New Zealand\",\"Nicaragua\",\"Niger\",\"Nigeria\",\"Niue\",\"North Korea\",\"North Macedonia\",\"Northern Mariana Islands\",\"Norway\",\"Oman\",\"Pakistan\",\"Palau\",\"Palestine\",\"Panama\",\"Papua New Guinea\",\"Paraguay\",\"Peru\",\"Philippines\",\"Poland\",\"Portugal\",\"Puerto Rico\",\"Qatar\",\"Republic of the Congo\",\"Reunion\",\"Romania\",\"Russia\",\"Rwanda\",\"Saint Barthelemy\",\"Saint Kitts and Nevis\",\"Saint Lucia\",\"Saint Martin\",\"Saint Pierre and Miquelon\",\"Saint Vincent and the Grenadines\",\"Samoa\",\"San Marino\",\"Sao Tome and Principe\",\"Saudi Arabia\",\"Senegal\",\"Serbia\",\"Seychelles\",\"Sierra Leone\",\"Singapore\",\"Sint Maarten\",\"Slovakia\",\"Slovenia\",\"Solomon Islands\",\"Somalia\",\"South Africa\",\"South Korea\",\"South Sudan\",\"Spain\",\"Sri Lanka\",\"Sudan\",\"Suriname\",\"Sweden\",\"Switzerland\",\"Syria\",\"Taiwan\",\"Tajikistan\",\"Tanzania\",\"Thailand\",\"Timor-Leste\",\"Togo\",\"Tokelau\",\"Tonga\",\"Trinidad and Tobago\",\"Tunisia\",\"Turkey\",\"Turkmenistan\",\"Turks and Caicos Islands\",\"Tuvalu\",\"Uganda\",\"Ukraine\",\"United Arab Emirates\",\"United Kingdom\",\"United States\",\"United States Virgin Islands\",\"Uruguay\",\"Uzbekistan\",\"Vanuatu\",\"Vatican City\",\"Venezuela\",\"Vietnam\",\"Wallis and Futuna\",\"Western Sahara\",\"Yemen\",\"Zambia\",\"Zimbabwe\"],\"locations\":[\"AFG\",\"ALB\",\"DZA\",\"ASM\",\"AND\",\"AGO\",\"AIA\",\"ATG\",\"ARG\",\"ARM\",\"ABW\",\"AUS\",\"AUT\",\"AZE\",\"BHS\",\"BHR\",\"BGD\",\"BRB\",\"BLR\",\"BEL\",\"BLZ\",\"BEN\",\"BMU\",\"BTN\",\"BOL\",\"BIH\",\"BWA\",\"BRA\",\"VGB\",\"BRN\",\"BGR\",\"BFA\",\"BDI\",\"KHM\",\"CMR\",\"CAN\",\"CPV\",\"CYM\",\"CAF\",\"TCD\",\"CHL\",\"CHN\",\"COL\",\"COM\",\"COK\",\"CRI\",\"HRV\",\"CUB\",\"CUW\",\"CYP\",\"CZE\",\"DNK\",\"DJI\",\"DMA\",\"DOM\",\"COD\",\"ECU\",\"EGY\",\"SLV\",\"GNQ\",\"ERI\",\"EST\",\"SWZ\",\"ETH\",\"FLK\",\"FRO\",\"FJI\",\"FIN\",\"FRA\",\"GUF\",\"PYF\",\"GAB\",\"GMB\",\"GEO\",\"DEU\",\"GHA\",\"GIB\",\"GRC\",\"GRL\",\"GRD\",\"GLP\",\"GUM\",\"GTM\",\"GGY\",\"GIN\",\"GNB\",\"GUY\",\"HTI\",\"HND\",\"HKG\",\"HUN\",\"ISL\",\"IND\",\"IDN\",\"IRN\",\"IRQ\",\"IRL\",\"IMN\",\"ISR\",\"ITA\",\"CIV\",\"JAM\",\"JPN\",\"JEY\",\"JOR\",\"KAZ\",\"KEN\",\"KIR\",\"KWT\",\"KGZ\",\"LAO\",\"LVA\",\"LBN\",\"LSO\",\"LBR\",\"LBY\",\"LIE\",\"LTU\",\"LUX\",\"MAC\",\"MDG\",\"MWI\",\"MYS\",\"MDV\",\"MLI\",\"MLT\",\"MHL\",\"MTQ\",\"MRT\",\"MUS\",\"MYT\",\"MEX\",\"FSM\",\"MDA\",\"MCO\",\"MNG\",\"MNE\",\"MSR\",\"MAR\",\"MOZ\",\"MMR\",\"NAM\",\"NRU\",\"NPL\",\"NLD\",\"NCL\",\"NZL\",\"NIC\",\"NER\",\"NGA\",\"NIU\",\"PRK\",\"MKD\",\"NFK\",\"NOR\",\"OMN\",\"PAK\",\"PLW\",\"PSE\",\"PAN\",\"PNG\",\"PRY\",\"PER\",\"PHL\",\"POL\",\"PRT\",\"PRI\",\"QAT\",\"COG\",\"REU\",\"ROU\",\"RUS\",\"RWA\",\"BLM\",\"KNA\",\"LCA\",\"MAF\",\"SPM\",\"VCT\",\"WSM\",\"SMR\",\"STP\",\"SAU\",\"SEN\",\"SRB\",\"SYC\",\"SLE\",\"SGP\",\"SXM\",\"SVK\",\"SVN\",\"SLB\",\"SOM\",\"ZAF\",\"KOR\",\"SSD\",\"ESP\",\"LKA\",\"SDN\",\"SUR\",\"SWE\",\"CHE\",\"SYR\",\"TWN\",\"TJK\",\"TZA\",\"THA\",\"TLS\",\"TGO\",\"TKL\",\"TON\",\"TTO\",\"TUN\",\"TUR\",\"TKM\",\"TCA\",\"TUV\",\"UGA\",\"UKR\",\"ARE\",\"GBR\",\"USA\",\"VIR\",\"URY\",\"UZB\",\"VUT\",\"VAT\",\"VEN\",\"VNM\",\"WLF\",\"ESH\",\"YEM\",\"ZMB\",\"ZWE\"],\"name\":\"\",\"z\":[1.0257,0.9957,1.0164,0.9831,1.01,1.0315,1.0066,1.0058,1.0052,0.9962,0.9991,1.0099,1.002,1.0044,1.0051,1.0061,1.0108,1.0015,0.9955,1.0038,1.0131,1.0274,1.0,1.0064,1.012,0.9886,1.0162,1.0046,1.0059,1.0081,0.9849,1.0259,1.027,1.0108,1.0263,1.0078,1.0089,1.0084,1.0224,1.0316,1.0057,1.0,1.0069,1.0184,1.0005,1.0052,0.9927,0.9961,1.0043,1.0059,0.9984,1.0048,1.0138,1.0045,1.01,1.0325,1.0114,1.0158,1.0035,1.0247,1.0176,0.998,1.0079,1.0257,1.0043,1.0038,1.0056,1.0009,1.0015,1.0239,1.0074,1.0204,1.025,0.9964,0.9995,1.0196,0.9994,0.9942,1.004,1.0066,0.9992,1.0073,1.0134,1.0037,1.0242,1.0218,1.0052,1.012,1.015,0.9992,1.0265,1.0069,1.0068,1.0064,1.0071,1.0221,1.0073,1.003,1.0155,0.9966,1.0248,0.9999,0.9947,1.0106,1.0123,1.0105,1.0193,1.0183,1.0044,1.0158,1.0141,0.9876,0.9816,1.0107,1.021,1.0114,1.0074,0.9869,1.0129,1.0125,1.0241,1.0259,1.0109,1.0045,1.0314,1.0124,0.9886,0.9965,1.0263,1.0004,1.0319,1.0063,1.0091,1.0691,0.9941,1.0151,0.9988,0.9939,1.0103,1.0278,1.0071,1.0146,1.0125,1.0171,1.0036,1.0075,1.0108,1.0143,1.0378,1.0241,0.9985,1.0038,0.9954,1.0014,1.0058,1.0123,1.0191,1.0017,1.0227,1.0132,1.0194,1.0115,1.0099,1.0147,1.0404,0.9981,0.9989,1.0026,1.0231,1.0082,1.0171,0.9973,1.0234,1.0098,1.0011,1.0011,0.9951,0.9964,0.9963,1.0165,0.9975,1.0192,1.0128,1.0261,0.9897,1.0061,1.022,1.0058,1.003,1.0359,1.0002,1.0232,1.0312,1.0084,0.9997,1.0153,1.0015,1.0027,1.0267,1.0082,1.0079,1.0056,1.0376,1.0014,1.0208,1.03,1.0013,1.0154,1.0236,1.0119,1.0079,1.0035,1.0076,1.0067,1.014,1.0131,1.0096,1.0304,0.912,1.0081,1.0034,1.0038,0.9937,0.999,1.016,1.0238,0.998,1.0036,1.0074,0.9953,1.0184,1.0217,1.028,1.0204],\"type\":\"choropleth\"}],                        {\"template\":{\"data\":{\"histogram2dcontour\":[{\"type\":\"histogram2dcontour\",\"colorbar\":{\"outlinewidth\":0,\"ticks\":\"\"},\"colorscale\":[[0.0,\"#0d0887\"],[0.1111111111111111,\"#46039f\"],[0.2222222222222222,\"#7201a8\"],[0.3333333333333333,\"#9c179e\"],[0.4444444444444444,\"#bd3786\"],[0.5555555555555556,\"#d8576b\"],[0.6666666666666666,\"#ed7953\"],[0.7777777777777778,\"#fb9f3a\"],[0.8888888888888888,\"#fdca26\"],[1.0,\"#f0f921\"]]}],\"choropleth\":[{\"type\":\"choropleth\",\"colorbar\":{\"outlinewidth\":0,\"ticks\":\"\"}}],\"histogram2d\":[{\"type\":\"histogram2d\",\"colorbar\":{\"outlinewidth\":0,\"ticks\":\"\"},\"colorscale\":[[0.0,\"#0d0887\"],[0.1111111111111111,\"#46039f\"],[0.2222222222222222,\"#7201a8\"],[0.3333333333333333,\"#9c179e\"],[0.4444444444444444,\"#bd3786\"],[0.5555555555555556,\"#d8576b\"],[0.6666666666666666,\"#ed7953\"],[0.7777777777777778,\"#fb9f3a\"],[0.8888888888888888,\"#fdca26\"],[1.0,\"#f0f921\"]]}],\"heatmap\":[{\"type\":\"heatmap\",\"colorbar\":{\"outlinewidth\":0,\"ticks\":\"\"},\"colorscale\":[[0.0,\"#0d0887\"],[0.1111111111111111,\"#46039f\"],[0.2222222222222222,\"#7201a8\"],[0.3333333333333333,\"#9c179e\"],[0.4444444444444444,\"#bd3786\"],[0.5555555555555556,\"#d8576b\"],[0.6666666666666666,\"#ed7953\"],[0.7777777777777778,\"#fb9f3a\"],[0.8888888888888888,\"#fdca26\"],[1.0,\"#f0f921\"]]}],\"heatmapgl\":[{\"type\":\"heatmapgl\",\"colorbar\":{\"outlinewidth\":0,\"ticks\":\"\"},\"colorscale\":[[0.0,\"#0d0887\"],[0.1111111111111111,\"#46039f\"],[0.2222222222222222,\"#7201a8\"],[0.3333333333333333,\"#9c179e\"],[0.4444444444444444,\"#bd3786\"],[0.5555555555555556,\"#d8576b\"],[0.6666666666666666,\"#ed7953\"],[0.7777777777777778,\"#fb9f3a\"],[0.8888888888888888,\"#fdca26\"],[1.0,\"#f0f921\"]]}],\"contourcarpet\":[{\"type\":\"contourcarpet\",\"colorbar\":{\"outlinewidth\":0,\"ticks\":\"\"}}],\"contour\":[{\"type\":\"contour\",\"colorbar\":{\"outlinewidth\":0,\"ticks\":\"\"},\"colorscale\":[[0.0,\"#0d0887\"],[0.1111111111111111,\"#46039f\"],[0.2222222222222222,\"#7201a8\"],[0.3333333333333333,\"#9c179e\"],[0.4444444444444444,\"#bd3786\"],[0.5555555555555556,\"#d8576b\"],[0.6666666666666666,\"#ed7953\"],[0.7777777777777778,\"#fb9f3a\"],[0.8888888888888888,\"#fdca26\"],[1.0,\"#f0f921\"]]}],\"surface\":[{\"type\":\"surface\",\"colorbar\":{\"outlinewidth\":0,\"ticks\":\"\"},\"colorscale\":[[0.0,\"#0d0887\"],[0.1111111111111111,\"#46039f\"],[0.2222222222222222,\"#7201a8\"],[0.3333333333333333,\"#9c179e\"],[0.4444444444444444,\"#bd3786\"],[0.5555555555555556,\"#d8576b\"],[0.6666666666666666,\"#ed7953\"],[0.7777777777777778,\"#fb9f3a\"],[0.8888888888888888,\"#fdca26\"],[1.0,\"#f0f921\"]]}],\"mesh3d\":[{\"type\":\"mesh3d\",\"colorbar\":{\"outlinewidth\":0,\"ticks\":\"\"}}],\"scatter\":[{\"fillpattern\":{\"fillmode\":\"overlay\",\"size\":10,\"solidity\":0.2},\"type\":\"scatter\"}],\"parcoords\":[{\"type\":\"parcoords\",\"line\":{\"colorbar\":{\"outlinewidth\":0,\"ticks\":\"\"}}}],\"scatterpolargl\":[{\"type\":\"scatterpolargl\",\"marker\":{\"colorbar\":{\"outlinewidth\":0,\"ticks\":\"\"}}}],\"bar\":[{\"error_x\":{\"color\":\"#2a3f5f\"},\"error_y\":{\"color\":\"#2a3f5f\"},\"marker\":{\"line\":{\"color\":\"#E5ECF6\",\"width\":0.5},\"pattern\":{\"fillmode\":\"overlay\",\"size\":10,\"solidity\":0.2}},\"type\":\"bar\"}],\"scattergeo\":[{\"type\":\"scattergeo\",\"marker\":{\"colorbar\":{\"outlinewidth\":0,\"ticks\":\"\"}}}],\"scatterpolar\":[{\"type\":\"scatterpolar\",\"marker\":{\"colorbar\":{\"outlinewidth\":0,\"ticks\":\"\"}}}],\"histogram\":[{\"marker\":{\"pattern\":{\"fillmode\":\"overlay\",\"size\":10,\"solidity\":0.2}},\"type\":\"histogram\"}],\"scattergl\":[{\"type\":\"scattergl\",\"marker\":{\"colorbar\":{\"outlinewidth\":0,\"ticks\":\"\"}}}],\"scatter3d\":[{\"type\":\"scatter3d\",\"line\":{\"colorbar\":{\"outlinewidth\":0,\"ticks\":\"\"}},\"marker\":{\"colorbar\":{\"outlinewidth\":0,\"ticks\":\"\"}}}],\"scattermapbox\":[{\"type\":\"scattermapbox\",\"marker\":{\"colorbar\":{\"outlinewidth\":0,\"ticks\":\"\"}}}],\"scatterternary\":[{\"type\":\"scatterternary\",\"marker\":{\"colorbar\":{\"outlinewidth\":0,\"ticks\":\"\"}}}],\"scattercarpet\":[{\"type\":\"scattercarpet\",\"marker\":{\"colorbar\":{\"outlinewidth\":0,\"ticks\":\"\"}}}],\"carpet\":[{\"aaxis\":{\"endlinecolor\":\"#2a3f5f\",\"gridcolor\":\"white\",\"linecolor\":\"white\",\"minorgridcolor\":\"white\",\"startlinecolor\":\"#2a3f5f\"},\"baxis\":{\"endlinecolor\":\"#2a3f5f\",\"gridcolor\":\"white\",\"linecolor\":\"white\",\"minorgridcolor\":\"white\",\"startlinecolor\":\"#2a3f5f\"},\"type\":\"carpet\"}],\"table\":[{\"cells\":{\"fill\":{\"color\":\"#EBF0F8\"},\"line\":{\"color\":\"white\"}},\"header\":{\"fill\":{\"color\":\"#C8D4E3\"},\"line\":{\"color\":\"white\"}},\"type\":\"table\"}],\"barpolar\":[{\"marker\":{\"line\":{\"color\":\"#E5ECF6\",\"width\":0.5},\"pattern\":{\"fillmode\":\"overlay\",\"size\":10,\"solidity\":0.2}},\"type\":\"barpolar\"}],\"pie\":[{\"automargin\":true,\"type\":\"pie\"}]},\"layout\":{\"autotypenumbers\":\"strict\",\"colorway\":[\"#636efa\",\"#EF553B\",\"#00cc96\",\"#ab63fa\",\"#FFA15A\",\"#19d3f3\",\"#FF6692\",\"#B6E880\",\"#FF97FF\",\"#FECB52\"],\"font\":{\"color\":\"#2a3f5f\"},\"hovermode\":\"closest\",\"hoverlabel\":{\"align\":\"left\"},\"paper_bgcolor\":\"white\",\"plot_bgcolor\":\"#E5ECF6\",\"polar\":{\"bgcolor\":\"#E5ECF6\",\"angularaxis\":{\"gridcolor\":\"white\",\"linecolor\":\"white\",\"ticks\":\"\"},\"radialaxis\":{\"gridcolor\":\"white\",\"linecolor\":\"white\",\"ticks\":\"\"}},\"ternary\":{\"bgcolor\":\"#E5ECF6\",\"aaxis\":{\"gridcolor\":\"white\",\"linecolor\":\"white\",\"ticks\":\"\"},\"baxis\":{\"gridcolor\":\"white\",\"linecolor\":\"white\",\"ticks\":\"\"},\"caxis\":{\"gridcolor\":\"white\",\"linecolor\":\"white\",\"ticks\":\"\"}},\"coloraxis\":{\"colorbar\":{\"outlinewidth\":0,\"ticks\":\"\"}},\"colorscale\":{\"sequential\":[[0.0,\"#0d0887\"],[0.1111111111111111,\"#46039f\"],[0.2222222222222222,\"#7201a8\"],[0.3333333333333333,\"#9c179e\"],[0.4444444444444444,\"#bd3786\"],[0.5555555555555556,\"#d8576b\"],[0.6666666666666666,\"#ed7953\"],[0.7777777777777778,\"#fb9f3a\"],[0.8888888888888888,\"#fdca26\"],[1.0,\"#f0f921\"]],\"sequentialminus\":[[0.0,\"#0d0887\"],[0.1111111111111111,\"#46039f\"],[0.2222222222222222,\"#7201a8\"],[0.3333333333333333,\"#9c179e\"],[0.4444444444444444,\"#bd3786\"],[0.5555555555555556,\"#d8576b\"],[0.6666666666666666,\"#ed7953\"],[0.7777777777777778,\"#fb9f3a\"],[0.8888888888888888,\"#fdca26\"],[1.0,\"#f0f921\"]],\"diverging\":[[0,\"#8e0152\"],[0.1,\"#c51b7d\"],[0.2,\"#de77ae\"],[0.3,\"#f1b6da\"],[0.4,\"#fde0ef\"],[0.5,\"#f7f7f7\"],[0.6,\"#e6f5d0\"],[0.7,\"#b8e186\"],[0.8,\"#7fbc41\"],[0.9,\"#4d9221\"],[1,\"#276419\"]]},\"xaxis\":{\"gridcolor\":\"white\",\"linecolor\":\"white\",\"ticks\":\"\",\"title\":{\"standoff\":15},\"zerolinecolor\":\"white\",\"automargin\":true,\"zerolinewidth\":2},\"yaxis\":{\"gridcolor\":\"white\",\"linecolor\":\"white\",\"ticks\":\"\",\"title\":{\"standoff\":15},\"zerolinecolor\":\"white\",\"automargin\":true,\"zerolinewidth\":2},\"scene\":{\"xaxis\":{\"backgroundcolor\":\"#E5ECF6\",\"gridcolor\":\"white\",\"linecolor\":\"white\",\"showbackground\":true,\"ticks\":\"\",\"zerolinecolor\":\"white\",\"gridwidth\":2},\"yaxis\":{\"backgroundcolor\":\"#E5ECF6\",\"gridcolor\":\"white\",\"linecolor\":\"white\",\"showbackground\":true,\"ticks\":\"\",\"zerolinecolor\":\"white\",\"gridwidth\":2},\"zaxis\":{\"backgroundcolor\":\"#E5ECF6\",\"gridcolor\":\"white\",\"linecolor\":\"white\",\"showbackground\":true,\"ticks\":\"\",\"zerolinecolor\":\"white\",\"gridwidth\":2}},\"shapedefaults\":{\"line\":{\"color\":\"#2a3f5f\"}},\"annotationdefaults\":{\"arrowcolor\":\"#2a3f5f\",\"arrowhead\":0,\"arrowwidth\":1},\"geo\":{\"bgcolor\":\"white\",\"landcolor\":\"#E5ECF6\",\"subunitcolor\":\"white\",\"showland\":true,\"showlakes\":true,\"lakecolor\":\"white\"},\"title\":{\"x\":0.05},\"mapbox\":{\"style\":\"light\"}}},\"geo\":{\"domain\":{\"x\":[0.0,1.0],\"y\":[0.0,1.0]},\"center\":{},\"projection\":{\"type\":\"equirectangular\"},\"showframe\":false,\"showcoastlines\":false},\"coloraxis\":{\"colorbar\":{\"title\":{\"text\":\"Growth Rate\"}},\"colorscale\":[[0.0,\"#0d0887\"],[0.1111111111111111,\"#46039f\"],[0.2222222222222222,\"#7201a8\"],[0.3333333333333333,\"#9c179e\"],[0.4444444444444444,\"#bd3786\"],[0.5555555555555556,\"#d8576b\"],[0.6666666666666666,\"#ed7953\"],[0.7777777777777778,\"#fb9f3a\"],[0.8888888888888888,\"#fdca26\"],[1.0,\"#f0f921\"]]},\"legend\":{\"tracegroupgap\":0,\"title\":{\"text\":\"Tasa de crecimiento poblacional\"},\"orientation\":\"h\",\"yanchor\":\"bottom\",\"y\":1.02,\"xanchor\":\"right\",\"x\":1,\"font\":{\"size\":16},\"itemclick\":false,\"itemdoubleclick\":false,\"itemsizing\":\"constant\",\"itemwidth\":30},\"margin\":{\"t\":0,\"l\":0,\"r\":0,\"b\":0},\"title\":{\"text\":\"Poblaci\\u00f3n mundial\",\"x\":0.5,\"font\":{\"size\":24}},\"height\":600,\"width\":1000},                        {\"responsive\": true}                    ).then(function(){\n",
              "                            \n",
              "var gd = document.getElementById('398494d0-f9d7-487c-a06d-fe01d221f0a8');\n",
              "var x = new MutationObserver(function (mutations, observer) {{\n",
              "        var display = window.getComputedStyle(gd).display;\n",
              "        if (!display || display === 'none') {{\n",
              "            console.log([gd, 'removed!']);\n",
              "            Plotly.purge(gd);\n",
              "            observer.disconnect();\n",
              "        }}\n",
              "}});\n",
              "\n",
              "// Listen for the removal of the full notebook cells\n",
              "var notebookContainer = gd.closest('#notebook-container');\n",
              "if (notebookContainer) {{\n",
              "    x.observe(notebookContainer, {childList: true});\n",
              "}}\n",
              "\n",
              "// Listen for the clearing of the current output cell\n",
              "var outputEl = gd.closest('.output');\n",
              "if (outputEl) {{\n",
              "    x.observe(outputEl, {childList: true});\n",
              "}}\n",
              "\n",
              "                        })                };                });            </script>        </div>"
            ]
          },
          "metadata": {}
        }
      ]
    },
    {
      "cell_type": "code",
      "source": [
        "top_most_population = df.groupby(by = 'Country/Territory')['2022 Population'].sum().sort_values(ascending=False).head(10)\n",
        "\n",
        "fig=px.bar(x=top_most_population.index,\n",
        "          y=top_most_population.values,\n",
        "          color=top_most_population.index,\n",
        "          color_discrete_sequence=px.colors.sequential.PuBuGn,\n",
        "          text=top_most_population.values,\n",
        "          title=\"Top 10 Countries with the most population\",\n",
        "          template= 'plotly_dark')\n",
        "fig.update_layout(\n",
        "    xaxis_title=\"Countries\",\n",
        "    yaxis_title=\"Population\",\n",
        "    font = dict(size=15,family=\"Franklin Gothic\"))\n",
        "fig.show()"
      ],
      "metadata": {
        "colab": {
          "base_uri": "https://localhost:8080/",
          "height": 542
        },
        "id": "FgqqBdyfPPDo",
        "outputId": "84b29b00-5e00-4629-9d13-5891217add11"
      },
      "execution_count": 122,
      "outputs": [
        {
          "output_type": "display_data",
          "data": {
            "application/vnd.plotly.v1+json": {
              "data": [
                {
                  "alignmentgroup": "True",
                  "hovertemplate": "color=China<br>x=%{x}<br>y=%{y}<br>text=%{text}<extra></extra>",
                  "legendgroup": "China",
                  "marker": {
                    "color": "rgb(255,247,251)",
                    "pattern": {
                      "shape": ""
                    }
                  },
                  "name": "China",
                  "offsetgroup": "China",
                  "orientation": "v",
                  "showlegend": true,
                  "text": [
                    1425887337
                  ],
                  "textposition": "auto",
                  "x": [
                    "China"
                  ],
                  "xaxis": "x",
                  "y": [
                    1425887337
                  ],
                  "yaxis": "y",
                  "type": "bar"
                },
                {
                  "alignmentgroup": "True",
                  "hovertemplate": "color=India<br>x=%{x}<br>y=%{y}<br>text=%{text}<extra></extra>",
                  "legendgroup": "India",
                  "marker": {
                    "color": "rgb(236,226,240)",
                    "pattern": {
                      "shape": ""
                    }
                  },
                  "name": "India",
                  "offsetgroup": "India",
                  "orientation": "v",
                  "showlegend": true,
                  "text": [
                    1417173173
                  ],
                  "textposition": "auto",
                  "x": [
                    "India"
                  ],
                  "xaxis": "x",
                  "y": [
                    1417173173
                  ],
                  "yaxis": "y",
                  "type": "bar"
                },
                {
                  "alignmentgroup": "True",
                  "hovertemplate": "color=United States<br>x=%{x}<br>y=%{y}<br>text=%{text}<extra></extra>",
                  "legendgroup": "United States",
                  "marker": {
                    "color": "rgb(208,209,230)",
                    "pattern": {
                      "shape": ""
                    }
                  },
                  "name": "United States",
                  "offsetgroup": "United States",
                  "orientation": "v",
                  "showlegend": true,
                  "text": [
                    338289857
                  ],
                  "textposition": "auto",
                  "x": [
                    "United States"
                  ],
                  "xaxis": "x",
                  "y": [
                    338289857
                  ],
                  "yaxis": "y",
                  "type": "bar"
                },
                {
                  "alignmentgroup": "True",
                  "hovertemplate": "color=Indonesia<br>x=%{x}<br>y=%{y}<br>text=%{text}<extra></extra>",
                  "legendgroup": "Indonesia",
                  "marker": {
                    "color": "rgb(166,189,219)",
                    "pattern": {
                      "shape": ""
                    }
                  },
                  "name": "Indonesia",
                  "offsetgroup": "Indonesia",
                  "orientation": "v",
                  "showlegend": true,
                  "text": [
                    275501339
                  ],
                  "textposition": "auto",
                  "x": [
                    "Indonesia"
                  ],
                  "xaxis": "x",
                  "y": [
                    275501339
                  ],
                  "yaxis": "y",
                  "type": "bar"
                },
                {
                  "alignmentgroup": "True",
                  "hovertemplate": "color=Pakistan<br>x=%{x}<br>y=%{y}<br>text=%{text}<extra></extra>",
                  "legendgroup": "Pakistan",
                  "marker": {
                    "color": "rgb(103,169,207)",
                    "pattern": {
                      "shape": ""
                    }
                  },
                  "name": "Pakistan",
                  "offsetgroup": "Pakistan",
                  "orientation": "v",
                  "showlegend": true,
                  "text": [
                    235824862
                  ],
                  "textposition": "auto",
                  "x": [
                    "Pakistan"
                  ],
                  "xaxis": "x",
                  "y": [
                    235824862
                  ],
                  "yaxis": "y",
                  "type": "bar"
                },
                {
                  "alignmentgroup": "True",
                  "hovertemplate": "color=Nigeria<br>x=%{x}<br>y=%{y}<br>text=%{text}<extra></extra>",
                  "legendgroup": "Nigeria",
                  "marker": {
                    "color": "rgb(54,144,192)",
                    "pattern": {
                      "shape": ""
                    }
                  },
                  "name": "Nigeria",
                  "offsetgroup": "Nigeria",
                  "orientation": "v",
                  "showlegend": true,
                  "text": [
                    218541212
                  ],
                  "textposition": "auto",
                  "x": [
                    "Nigeria"
                  ],
                  "xaxis": "x",
                  "y": [
                    218541212
                  ],
                  "yaxis": "y",
                  "type": "bar"
                },
                {
                  "alignmentgroup": "True",
                  "hovertemplate": "color=Brazil<br>x=%{x}<br>y=%{y}<br>text=%{text}<extra></extra>",
                  "legendgroup": "Brazil",
                  "marker": {
                    "color": "rgb(2,129,138)",
                    "pattern": {
                      "shape": ""
                    }
                  },
                  "name": "Brazil",
                  "offsetgroup": "Brazil",
                  "orientation": "v",
                  "showlegend": true,
                  "text": [
                    215313498
                  ],
                  "textposition": "auto",
                  "x": [
                    "Brazil"
                  ],
                  "xaxis": "x",
                  "y": [
                    215313498
                  ],
                  "yaxis": "y",
                  "type": "bar"
                },
                {
                  "alignmentgroup": "True",
                  "hovertemplate": "color=Bangladesh<br>x=%{x}<br>y=%{y}<br>text=%{text}<extra></extra>",
                  "legendgroup": "Bangladesh",
                  "marker": {
                    "color": "rgb(1,108,89)",
                    "pattern": {
                      "shape": ""
                    }
                  },
                  "name": "Bangladesh",
                  "offsetgroup": "Bangladesh",
                  "orientation": "v",
                  "showlegend": true,
                  "text": [
                    171186372
                  ],
                  "textposition": "auto",
                  "x": [
                    "Bangladesh"
                  ],
                  "xaxis": "x",
                  "y": [
                    171186372
                  ],
                  "yaxis": "y",
                  "type": "bar"
                },
                {
                  "alignmentgroup": "True",
                  "hovertemplate": "color=Russia<br>x=%{x}<br>y=%{y}<br>text=%{text}<extra></extra>",
                  "legendgroup": "Russia",
                  "marker": {
                    "color": "rgb(1,70,54)",
                    "pattern": {
                      "shape": ""
                    }
                  },
                  "name": "Russia",
                  "offsetgroup": "Russia",
                  "orientation": "v",
                  "showlegend": true,
                  "text": [
                    144713314
                  ],
                  "textposition": "auto",
                  "x": [
                    "Russia"
                  ],
                  "xaxis": "x",
                  "y": [
                    144713314
                  ],
                  "yaxis": "y",
                  "type": "bar"
                },
                {
                  "alignmentgroup": "True",
                  "hovertemplate": "color=Mexico<br>x=%{x}<br>y=%{y}<br>text=%{text}<extra></extra>",
                  "legendgroup": "Mexico",
                  "marker": {
                    "color": "rgb(255,247,251)",
                    "pattern": {
                      "shape": ""
                    }
                  },
                  "name": "Mexico",
                  "offsetgroup": "Mexico",
                  "orientation": "v",
                  "showlegend": true,
                  "text": [
                    127504125
                  ],
                  "textposition": "auto",
                  "x": [
                    "Mexico"
                  ],
                  "xaxis": "x",
                  "y": [
                    127504125
                  ],
                  "yaxis": "y",
                  "type": "bar"
                }
              ],
              "layout": {
                "template": {
                  "data": {
                    "barpolar": [
                      {
                        "marker": {
                          "line": {
                            "color": "rgb(17,17,17)",
                            "width": 0.5
                          },
                          "pattern": {
                            "fillmode": "overlay",
                            "size": 10,
                            "solidity": 0.2
                          }
                        },
                        "type": "barpolar"
                      }
                    ],
                    "bar": [
                      {
                        "error_x": {
                          "color": "#f2f5fa"
                        },
                        "error_y": {
                          "color": "#f2f5fa"
                        },
                        "marker": {
                          "line": {
                            "color": "rgb(17,17,17)",
                            "width": 0.5
                          },
                          "pattern": {
                            "fillmode": "overlay",
                            "size": 10,
                            "solidity": 0.2
                          }
                        },
                        "type": "bar"
                      }
                    ],
                    "carpet": [
                      {
                        "aaxis": {
                          "endlinecolor": "#A2B1C6",
                          "gridcolor": "#506784",
                          "linecolor": "#506784",
                          "minorgridcolor": "#506784",
                          "startlinecolor": "#A2B1C6"
                        },
                        "baxis": {
                          "endlinecolor": "#A2B1C6",
                          "gridcolor": "#506784",
                          "linecolor": "#506784",
                          "minorgridcolor": "#506784",
                          "startlinecolor": "#A2B1C6"
                        },
                        "type": "carpet"
                      }
                    ],
                    "choropleth": [
                      {
                        "colorbar": {
                          "outlinewidth": 0,
                          "ticks": ""
                        },
                        "type": "choropleth"
                      }
                    ],
                    "contourcarpet": [
                      {
                        "colorbar": {
                          "outlinewidth": 0,
                          "ticks": ""
                        },
                        "type": "contourcarpet"
                      }
                    ],
                    "contour": [
                      {
                        "colorbar": {
                          "outlinewidth": 0,
                          "ticks": ""
                        },
                        "colorscale": [
                          [
                            0,
                            "#0d0887"
                          ],
                          [
                            0.1111111111111111,
                            "#46039f"
                          ],
                          [
                            0.2222222222222222,
                            "#7201a8"
                          ],
                          [
                            0.3333333333333333,
                            "#9c179e"
                          ],
                          [
                            0.4444444444444444,
                            "#bd3786"
                          ],
                          [
                            0.5555555555555556,
                            "#d8576b"
                          ],
                          [
                            0.6666666666666666,
                            "#ed7953"
                          ],
                          [
                            0.7777777777777778,
                            "#fb9f3a"
                          ],
                          [
                            0.8888888888888888,
                            "#fdca26"
                          ],
                          [
                            1,
                            "#f0f921"
                          ]
                        ],
                        "type": "contour"
                      }
                    ],
                    "heatmapgl": [
                      {
                        "colorbar": {
                          "outlinewidth": 0,
                          "ticks": ""
                        },
                        "colorscale": [
                          [
                            0,
                            "#0d0887"
                          ],
                          [
                            0.1111111111111111,
                            "#46039f"
                          ],
                          [
                            0.2222222222222222,
                            "#7201a8"
                          ],
                          [
                            0.3333333333333333,
                            "#9c179e"
                          ],
                          [
                            0.4444444444444444,
                            "#bd3786"
                          ],
                          [
                            0.5555555555555556,
                            "#d8576b"
                          ],
                          [
                            0.6666666666666666,
                            "#ed7953"
                          ],
                          [
                            0.7777777777777778,
                            "#fb9f3a"
                          ],
                          [
                            0.8888888888888888,
                            "#fdca26"
                          ],
                          [
                            1,
                            "#f0f921"
                          ]
                        ],
                        "type": "heatmapgl"
                      }
                    ],
                    "heatmap": [
                      {
                        "colorbar": {
                          "outlinewidth": 0,
                          "ticks": ""
                        },
                        "colorscale": [
                          [
                            0,
                            "#0d0887"
                          ],
                          [
                            0.1111111111111111,
                            "#46039f"
                          ],
                          [
                            0.2222222222222222,
                            "#7201a8"
                          ],
                          [
                            0.3333333333333333,
                            "#9c179e"
                          ],
                          [
                            0.4444444444444444,
                            "#bd3786"
                          ],
                          [
                            0.5555555555555556,
                            "#d8576b"
                          ],
                          [
                            0.6666666666666666,
                            "#ed7953"
                          ],
                          [
                            0.7777777777777778,
                            "#fb9f3a"
                          ],
                          [
                            0.8888888888888888,
                            "#fdca26"
                          ],
                          [
                            1,
                            "#f0f921"
                          ]
                        ],
                        "type": "heatmap"
                      }
                    ],
                    "histogram2dcontour": [
                      {
                        "colorbar": {
                          "outlinewidth": 0,
                          "ticks": ""
                        },
                        "colorscale": [
                          [
                            0,
                            "#0d0887"
                          ],
                          [
                            0.1111111111111111,
                            "#46039f"
                          ],
                          [
                            0.2222222222222222,
                            "#7201a8"
                          ],
                          [
                            0.3333333333333333,
                            "#9c179e"
                          ],
                          [
                            0.4444444444444444,
                            "#bd3786"
                          ],
                          [
                            0.5555555555555556,
                            "#d8576b"
                          ],
                          [
                            0.6666666666666666,
                            "#ed7953"
                          ],
                          [
                            0.7777777777777778,
                            "#fb9f3a"
                          ],
                          [
                            0.8888888888888888,
                            "#fdca26"
                          ],
                          [
                            1,
                            "#f0f921"
                          ]
                        ],
                        "type": "histogram2dcontour"
                      }
                    ],
                    "histogram2d": [
                      {
                        "colorbar": {
                          "outlinewidth": 0,
                          "ticks": ""
                        },
                        "colorscale": [
                          [
                            0,
                            "#0d0887"
                          ],
                          [
                            0.1111111111111111,
                            "#46039f"
                          ],
                          [
                            0.2222222222222222,
                            "#7201a8"
                          ],
                          [
                            0.3333333333333333,
                            "#9c179e"
                          ],
                          [
                            0.4444444444444444,
                            "#bd3786"
                          ],
                          [
                            0.5555555555555556,
                            "#d8576b"
                          ],
                          [
                            0.6666666666666666,
                            "#ed7953"
                          ],
                          [
                            0.7777777777777778,
                            "#fb9f3a"
                          ],
                          [
                            0.8888888888888888,
                            "#fdca26"
                          ],
                          [
                            1,
                            "#f0f921"
                          ]
                        ],
                        "type": "histogram2d"
                      }
                    ],
                    "histogram": [
                      {
                        "marker": {
                          "pattern": {
                            "fillmode": "overlay",
                            "size": 10,
                            "solidity": 0.2
                          }
                        },
                        "type": "histogram"
                      }
                    ],
                    "mesh3d": [
                      {
                        "colorbar": {
                          "outlinewidth": 0,
                          "ticks": ""
                        },
                        "type": "mesh3d"
                      }
                    ],
                    "parcoords": [
                      {
                        "line": {
                          "colorbar": {
                            "outlinewidth": 0,
                            "ticks": ""
                          }
                        },
                        "type": "parcoords"
                      }
                    ],
                    "pie": [
                      {
                        "automargin": true,
                        "type": "pie"
                      }
                    ],
                    "scatter3d": [
                      {
                        "line": {
                          "colorbar": {
                            "outlinewidth": 0,
                            "ticks": ""
                          }
                        },
                        "marker": {
                          "colorbar": {
                            "outlinewidth": 0,
                            "ticks": ""
                          }
                        },
                        "type": "scatter3d"
                      }
                    ],
                    "scattercarpet": [
                      {
                        "marker": {
                          "colorbar": {
                            "outlinewidth": 0,
                            "ticks": ""
                          }
                        },
                        "type": "scattercarpet"
                      }
                    ],
                    "scattergeo": [
                      {
                        "marker": {
                          "colorbar": {
                            "outlinewidth": 0,
                            "ticks": ""
                          }
                        },
                        "type": "scattergeo"
                      }
                    ],
                    "scattergl": [
                      {
                        "marker": {
                          "line": {
                            "color": "#283442"
                          }
                        },
                        "type": "scattergl"
                      }
                    ],
                    "scattermapbox": [
                      {
                        "marker": {
                          "colorbar": {
                            "outlinewidth": 0,
                            "ticks": ""
                          }
                        },
                        "type": "scattermapbox"
                      }
                    ],
                    "scatterpolargl": [
                      {
                        "marker": {
                          "colorbar": {
                            "outlinewidth": 0,
                            "ticks": ""
                          }
                        },
                        "type": "scatterpolargl"
                      }
                    ],
                    "scatterpolar": [
                      {
                        "marker": {
                          "colorbar": {
                            "outlinewidth": 0,
                            "ticks": ""
                          }
                        },
                        "type": "scatterpolar"
                      }
                    ],
                    "scatter": [
                      {
                        "marker": {
                          "line": {
                            "color": "#283442"
                          }
                        },
                        "type": "scatter"
                      }
                    ],
                    "scatterternary": [
                      {
                        "marker": {
                          "colorbar": {
                            "outlinewidth": 0,
                            "ticks": ""
                          }
                        },
                        "type": "scatterternary"
                      }
                    ],
                    "surface": [
                      {
                        "colorbar": {
                          "outlinewidth": 0,
                          "ticks": ""
                        },
                        "colorscale": [
                          [
                            0,
                            "#0d0887"
                          ],
                          [
                            0.1111111111111111,
                            "#46039f"
                          ],
                          [
                            0.2222222222222222,
                            "#7201a8"
                          ],
                          [
                            0.3333333333333333,
                            "#9c179e"
                          ],
                          [
                            0.4444444444444444,
                            "#bd3786"
                          ],
                          [
                            0.5555555555555556,
                            "#d8576b"
                          ],
                          [
                            0.6666666666666666,
                            "#ed7953"
                          ],
                          [
                            0.7777777777777778,
                            "#fb9f3a"
                          ],
                          [
                            0.8888888888888888,
                            "#fdca26"
                          ],
                          [
                            1,
                            "#f0f921"
                          ]
                        ],
                        "type": "surface"
                      }
                    ],
                    "table": [
                      {
                        "cells": {
                          "fill": {
                            "color": "#506784"
                          },
                          "line": {
                            "color": "rgb(17,17,17)"
                          }
                        },
                        "header": {
                          "fill": {
                            "color": "#2a3f5f"
                          },
                          "line": {
                            "color": "rgb(17,17,17)"
                          }
                        },
                        "type": "table"
                      }
                    ]
                  },
                  "layout": {
                    "annotationdefaults": {
                      "arrowcolor": "#f2f5fa",
                      "arrowhead": 0,
                      "arrowwidth": 1
                    },
                    "autotypenumbers": "strict",
                    "coloraxis": {
                      "colorbar": {
                        "outlinewidth": 0,
                        "ticks": ""
                      }
                    },
                    "colorscale": {
                      "diverging": [
                        [
                          0,
                          "#8e0152"
                        ],
                        [
                          0.1,
                          "#c51b7d"
                        ],
                        [
                          0.2,
                          "#de77ae"
                        ],
                        [
                          0.3,
                          "#f1b6da"
                        ],
                        [
                          0.4,
                          "#fde0ef"
                        ],
                        [
                          0.5,
                          "#f7f7f7"
                        ],
                        [
                          0.6,
                          "#e6f5d0"
                        ],
                        [
                          0.7,
                          "#b8e186"
                        ],
                        [
                          0.8,
                          "#7fbc41"
                        ],
                        [
                          0.9,
                          "#4d9221"
                        ],
                        [
                          1,
                          "#276419"
                        ]
                      ],
                      "sequential": [
                        [
                          0,
                          "#0d0887"
                        ],
                        [
                          0.1111111111111111,
                          "#46039f"
                        ],
                        [
                          0.2222222222222222,
                          "#7201a8"
                        ],
                        [
                          0.3333333333333333,
                          "#9c179e"
                        ],
                        [
                          0.4444444444444444,
                          "#bd3786"
                        ],
                        [
                          0.5555555555555556,
                          "#d8576b"
                        ],
                        [
                          0.6666666666666666,
                          "#ed7953"
                        ],
                        [
                          0.7777777777777778,
                          "#fb9f3a"
                        ],
                        [
                          0.8888888888888888,
                          "#fdca26"
                        ],
                        [
                          1,
                          "#f0f921"
                        ]
                      ],
                      "sequentialminus": [
                        [
                          0,
                          "#0d0887"
                        ],
                        [
                          0.1111111111111111,
                          "#46039f"
                        ],
                        [
                          0.2222222222222222,
                          "#7201a8"
                        ],
                        [
                          0.3333333333333333,
                          "#9c179e"
                        ],
                        [
                          0.4444444444444444,
                          "#bd3786"
                        ],
                        [
                          0.5555555555555556,
                          "#d8576b"
                        ],
                        [
                          0.6666666666666666,
                          "#ed7953"
                        ],
                        [
                          0.7777777777777778,
                          "#fb9f3a"
                        ],
                        [
                          0.8888888888888888,
                          "#fdca26"
                        ],
                        [
                          1,
                          "#f0f921"
                        ]
                      ]
                    },
                    "colorway": [
                      "#636efa",
                      "#EF553B",
                      "#00cc96",
                      "#ab63fa",
                      "#FFA15A",
                      "#19d3f3",
                      "#FF6692",
                      "#B6E880",
                      "#FF97FF",
                      "#FECB52"
                    ],
                    "font": {
                      "color": "#f2f5fa"
                    },
                    "geo": {
                      "bgcolor": "rgb(17,17,17)",
                      "lakecolor": "rgb(17,17,17)",
                      "landcolor": "rgb(17,17,17)",
                      "showlakes": true,
                      "showland": true,
                      "subunitcolor": "#506784"
                    },
                    "hoverlabel": {
                      "align": "left"
                    },
                    "hovermode": "closest",
                    "mapbox": {
                      "style": "dark"
                    },
                    "paper_bgcolor": "rgb(17,17,17)",
                    "plot_bgcolor": "rgb(17,17,17)",
                    "polar": {
                      "angularaxis": {
                        "gridcolor": "#506784",
                        "linecolor": "#506784",
                        "ticks": ""
                      },
                      "bgcolor": "rgb(17,17,17)",
                      "radialaxis": {
                        "gridcolor": "#506784",
                        "linecolor": "#506784",
                        "ticks": ""
                      }
                    },
                    "scene": {
                      "xaxis": {
                        "backgroundcolor": "rgb(17,17,17)",
                        "gridcolor": "#506784",
                        "gridwidth": 2,
                        "linecolor": "#506784",
                        "showbackground": true,
                        "ticks": "",
                        "zerolinecolor": "#C8D4E3"
                      },
                      "yaxis": {
                        "backgroundcolor": "rgb(17,17,17)",
                        "gridcolor": "#506784",
                        "gridwidth": 2,
                        "linecolor": "#506784",
                        "showbackground": true,
                        "ticks": "",
                        "zerolinecolor": "#C8D4E3"
                      },
                      "zaxis": {
                        "backgroundcolor": "rgb(17,17,17)",
                        "gridcolor": "#506784",
                        "gridwidth": 2,
                        "linecolor": "#506784",
                        "showbackground": true,
                        "ticks": "",
                        "zerolinecolor": "#C8D4E3"
                      }
                    },
                    "shapedefaults": {
                      "line": {
                        "color": "#f2f5fa"
                      }
                    },
                    "sliderdefaults": {
                      "bgcolor": "#C8D4E3",
                      "bordercolor": "rgb(17,17,17)",
                      "borderwidth": 1,
                      "tickwidth": 0
                    },
                    "ternary": {
                      "aaxis": {
                        "gridcolor": "#506784",
                        "linecolor": "#506784",
                        "ticks": ""
                      },
                      "baxis": {
                        "gridcolor": "#506784",
                        "linecolor": "#506784",
                        "ticks": ""
                      },
                      "bgcolor": "rgb(17,17,17)",
                      "caxis": {
                        "gridcolor": "#506784",
                        "linecolor": "#506784",
                        "ticks": ""
                      }
                    },
                    "title": {
                      "x": 0.05
                    },
                    "updatemenudefaults": {
                      "bgcolor": "#506784",
                      "borderwidth": 0
                    },
                    "xaxis": {
                      "automargin": true,
                      "gridcolor": "#283442",
                      "linecolor": "#506784",
                      "ticks": "",
                      "title": {
                        "standoff": 15
                      },
                      "zerolinecolor": "#283442",
                      "zerolinewidth": 2
                    },
                    "yaxis": {
                      "automargin": true,
                      "gridcolor": "#283442",
                      "linecolor": "#506784",
                      "ticks": "",
                      "title": {
                        "standoff": 15
                      },
                      "zerolinecolor": "#283442",
                      "zerolinewidth": 2
                    }
                  }
                },
                "xaxis": {
                  "anchor": "y",
                  "domain": [
                    0,
                    1
                  ],
                  "title": {
                    "text": "Countries"
                  }
                },
                "yaxis": {
                  "anchor": "x",
                  "domain": [
                    0,
                    1
                  ],
                  "title": {
                    "text": "Population"
                  }
                },
                "legend": {
                  "title": {
                    "text": "color"
                  },
                  "tracegroupgap": 0
                },
                "title": {
                  "text": "Top 10 Countries with the most population"
                },
                "barmode": "relative",
                "font": {
                  "size": 15,
                  "family": "Franklin Gothic"
                }
              },
              "config": {
                "plotlyServerURL": "https://plot.ly"
              }
            },
            "text/html": [
              "<div>                            <div id=\"4053ea2f-27d8-441c-9584-fb38c2bfd5ba\" class=\"plotly-graph-div\" style=\"height:525px; width:100%;\"></div>            <script type=\"text/javascript\">                require([\"plotly\"], function(Plotly) {                    window.PLOTLYENV=window.PLOTLYENV || {};                                    if (document.getElementById(\"4053ea2f-27d8-441c-9584-fb38c2bfd5ba\")) {                    Plotly.newPlot(                        \"4053ea2f-27d8-441c-9584-fb38c2bfd5ba\",                        [{\"alignmentgroup\":\"True\",\"hovertemplate\":\"color=China\\u003cbr\\u003ex=%{x}\\u003cbr\\u003ey=%{y}\\u003cbr\\u003etext=%{text}\\u003cextra\\u003e\\u003c\\u002fextra\\u003e\",\"legendgroup\":\"China\",\"marker\":{\"color\":\"rgb(255,247,251)\",\"pattern\":{\"shape\":\"\"}},\"name\":\"China\",\"offsetgroup\":\"China\",\"orientation\":\"v\",\"showlegend\":true,\"text\":[1425887337.0],\"textposition\":\"auto\",\"x\":[\"China\"],\"xaxis\":\"x\",\"y\":[1425887337],\"yaxis\":\"y\",\"type\":\"bar\"},{\"alignmentgroup\":\"True\",\"hovertemplate\":\"color=India\\u003cbr\\u003ex=%{x}\\u003cbr\\u003ey=%{y}\\u003cbr\\u003etext=%{text}\\u003cextra\\u003e\\u003c\\u002fextra\\u003e\",\"legendgroup\":\"India\",\"marker\":{\"color\":\"rgb(236,226,240)\",\"pattern\":{\"shape\":\"\"}},\"name\":\"India\",\"offsetgroup\":\"India\",\"orientation\":\"v\",\"showlegend\":true,\"text\":[1417173173.0],\"textposition\":\"auto\",\"x\":[\"India\"],\"xaxis\":\"x\",\"y\":[1417173173],\"yaxis\":\"y\",\"type\":\"bar\"},{\"alignmentgroup\":\"True\",\"hovertemplate\":\"color=United States\\u003cbr\\u003ex=%{x}\\u003cbr\\u003ey=%{y}\\u003cbr\\u003etext=%{text}\\u003cextra\\u003e\\u003c\\u002fextra\\u003e\",\"legendgroup\":\"United States\",\"marker\":{\"color\":\"rgb(208,209,230)\",\"pattern\":{\"shape\":\"\"}},\"name\":\"United States\",\"offsetgroup\":\"United States\",\"orientation\":\"v\",\"showlegend\":true,\"text\":[338289857.0],\"textposition\":\"auto\",\"x\":[\"United States\"],\"xaxis\":\"x\",\"y\":[338289857],\"yaxis\":\"y\",\"type\":\"bar\"},{\"alignmentgroup\":\"True\",\"hovertemplate\":\"color=Indonesia\\u003cbr\\u003ex=%{x}\\u003cbr\\u003ey=%{y}\\u003cbr\\u003etext=%{text}\\u003cextra\\u003e\\u003c\\u002fextra\\u003e\",\"legendgroup\":\"Indonesia\",\"marker\":{\"color\":\"rgb(166,189,219)\",\"pattern\":{\"shape\":\"\"}},\"name\":\"Indonesia\",\"offsetgroup\":\"Indonesia\",\"orientation\":\"v\",\"showlegend\":true,\"text\":[275501339.0],\"textposition\":\"auto\",\"x\":[\"Indonesia\"],\"xaxis\":\"x\",\"y\":[275501339],\"yaxis\":\"y\",\"type\":\"bar\"},{\"alignmentgroup\":\"True\",\"hovertemplate\":\"color=Pakistan\\u003cbr\\u003ex=%{x}\\u003cbr\\u003ey=%{y}\\u003cbr\\u003etext=%{text}\\u003cextra\\u003e\\u003c\\u002fextra\\u003e\",\"legendgroup\":\"Pakistan\",\"marker\":{\"color\":\"rgb(103,169,207)\",\"pattern\":{\"shape\":\"\"}},\"name\":\"Pakistan\",\"offsetgroup\":\"Pakistan\",\"orientation\":\"v\",\"showlegend\":true,\"text\":[235824862.0],\"textposition\":\"auto\",\"x\":[\"Pakistan\"],\"xaxis\":\"x\",\"y\":[235824862],\"yaxis\":\"y\",\"type\":\"bar\"},{\"alignmentgroup\":\"True\",\"hovertemplate\":\"color=Nigeria\\u003cbr\\u003ex=%{x}\\u003cbr\\u003ey=%{y}\\u003cbr\\u003etext=%{text}\\u003cextra\\u003e\\u003c\\u002fextra\\u003e\",\"legendgroup\":\"Nigeria\",\"marker\":{\"color\":\"rgb(54,144,192)\",\"pattern\":{\"shape\":\"\"}},\"name\":\"Nigeria\",\"offsetgroup\":\"Nigeria\",\"orientation\":\"v\",\"showlegend\":true,\"text\":[218541212.0],\"textposition\":\"auto\",\"x\":[\"Nigeria\"],\"xaxis\":\"x\",\"y\":[218541212],\"yaxis\":\"y\",\"type\":\"bar\"},{\"alignmentgroup\":\"True\",\"hovertemplate\":\"color=Brazil\\u003cbr\\u003ex=%{x}\\u003cbr\\u003ey=%{y}\\u003cbr\\u003etext=%{text}\\u003cextra\\u003e\\u003c\\u002fextra\\u003e\",\"legendgroup\":\"Brazil\",\"marker\":{\"color\":\"rgb(2,129,138)\",\"pattern\":{\"shape\":\"\"}},\"name\":\"Brazil\",\"offsetgroup\":\"Brazil\",\"orientation\":\"v\",\"showlegend\":true,\"text\":[215313498.0],\"textposition\":\"auto\",\"x\":[\"Brazil\"],\"xaxis\":\"x\",\"y\":[215313498],\"yaxis\":\"y\",\"type\":\"bar\"},{\"alignmentgroup\":\"True\",\"hovertemplate\":\"color=Bangladesh\\u003cbr\\u003ex=%{x}\\u003cbr\\u003ey=%{y}\\u003cbr\\u003etext=%{text}\\u003cextra\\u003e\\u003c\\u002fextra\\u003e\",\"legendgroup\":\"Bangladesh\",\"marker\":{\"color\":\"rgb(1,108,89)\",\"pattern\":{\"shape\":\"\"}},\"name\":\"Bangladesh\",\"offsetgroup\":\"Bangladesh\",\"orientation\":\"v\",\"showlegend\":true,\"text\":[171186372.0],\"textposition\":\"auto\",\"x\":[\"Bangladesh\"],\"xaxis\":\"x\",\"y\":[171186372],\"yaxis\":\"y\",\"type\":\"bar\"},{\"alignmentgroup\":\"True\",\"hovertemplate\":\"color=Russia\\u003cbr\\u003ex=%{x}\\u003cbr\\u003ey=%{y}\\u003cbr\\u003etext=%{text}\\u003cextra\\u003e\\u003c\\u002fextra\\u003e\",\"legendgroup\":\"Russia\",\"marker\":{\"color\":\"rgb(1,70,54)\",\"pattern\":{\"shape\":\"\"}},\"name\":\"Russia\",\"offsetgroup\":\"Russia\",\"orientation\":\"v\",\"showlegend\":true,\"text\":[144713314.0],\"textposition\":\"auto\",\"x\":[\"Russia\"],\"xaxis\":\"x\",\"y\":[144713314],\"yaxis\":\"y\",\"type\":\"bar\"},{\"alignmentgroup\":\"True\",\"hovertemplate\":\"color=Mexico\\u003cbr\\u003ex=%{x}\\u003cbr\\u003ey=%{y}\\u003cbr\\u003etext=%{text}\\u003cextra\\u003e\\u003c\\u002fextra\\u003e\",\"legendgroup\":\"Mexico\",\"marker\":{\"color\":\"rgb(255,247,251)\",\"pattern\":{\"shape\":\"\"}},\"name\":\"Mexico\",\"offsetgroup\":\"Mexico\",\"orientation\":\"v\",\"showlegend\":true,\"text\":[127504125.0],\"textposition\":\"auto\",\"x\":[\"Mexico\"],\"xaxis\":\"x\",\"y\":[127504125],\"yaxis\":\"y\",\"type\":\"bar\"}],                        {\"template\":{\"data\":{\"barpolar\":[{\"marker\":{\"line\":{\"color\":\"rgb(17,17,17)\",\"width\":0.5},\"pattern\":{\"fillmode\":\"overlay\",\"size\":10,\"solidity\":0.2}},\"type\":\"barpolar\"}],\"bar\":[{\"error_x\":{\"color\":\"#f2f5fa\"},\"error_y\":{\"color\":\"#f2f5fa\"},\"marker\":{\"line\":{\"color\":\"rgb(17,17,17)\",\"width\":0.5},\"pattern\":{\"fillmode\":\"overlay\",\"size\":10,\"solidity\":0.2}},\"type\":\"bar\"}],\"carpet\":[{\"aaxis\":{\"endlinecolor\":\"#A2B1C6\",\"gridcolor\":\"#506784\",\"linecolor\":\"#506784\",\"minorgridcolor\":\"#506784\",\"startlinecolor\":\"#A2B1C6\"},\"baxis\":{\"endlinecolor\":\"#A2B1C6\",\"gridcolor\":\"#506784\",\"linecolor\":\"#506784\",\"minorgridcolor\":\"#506784\",\"startlinecolor\":\"#A2B1C6\"},\"type\":\"carpet\"}],\"choropleth\":[{\"colorbar\":{\"outlinewidth\":0,\"ticks\":\"\"},\"type\":\"choropleth\"}],\"contourcarpet\":[{\"colorbar\":{\"outlinewidth\":0,\"ticks\":\"\"},\"type\":\"contourcarpet\"}],\"contour\":[{\"colorbar\":{\"outlinewidth\":0,\"ticks\":\"\"},\"colorscale\":[[0.0,\"#0d0887\"],[0.1111111111111111,\"#46039f\"],[0.2222222222222222,\"#7201a8\"],[0.3333333333333333,\"#9c179e\"],[0.4444444444444444,\"#bd3786\"],[0.5555555555555556,\"#d8576b\"],[0.6666666666666666,\"#ed7953\"],[0.7777777777777778,\"#fb9f3a\"],[0.8888888888888888,\"#fdca26\"],[1.0,\"#f0f921\"]],\"type\":\"contour\"}],\"heatmapgl\":[{\"colorbar\":{\"outlinewidth\":0,\"ticks\":\"\"},\"colorscale\":[[0.0,\"#0d0887\"],[0.1111111111111111,\"#46039f\"],[0.2222222222222222,\"#7201a8\"],[0.3333333333333333,\"#9c179e\"],[0.4444444444444444,\"#bd3786\"],[0.5555555555555556,\"#d8576b\"],[0.6666666666666666,\"#ed7953\"],[0.7777777777777778,\"#fb9f3a\"],[0.8888888888888888,\"#fdca26\"],[1.0,\"#f0f921\"]],\"type\":\"heatmapgl\"}],\"heatmap\":[{\"colorbar\":{\"outlinewidth\":0,\"ticks\":\"\"},\"colorscale\":[[0.0,\"#0d0887\"],[0.1111111111111111,\"#46039f\"],[0.2222222222222222,\"#7201a8\"],[0.3333333333333333,\"#9c179e\"],[0.4444444444444444,\"#bd3786\"],[0.5555555555555556,\"#d8576b\"],[0.6666666666666666,\"#ed7953\"],[0.7777777777777778,\"#fb9f3a\"],[0.8888888888888888,\"#fdca26\"],[1.0,\"#f0f921\"]],\"type\":\"heatmap\"}],\"histogram2dcontour\":[{\"colorbar\":{\"outlinewidth\":0,\"ticks\":\"\"},\"colorscale\":[[0.0,\"#0d0887\"],[0.1111111111111111,\"#46039f\"],[0.2222222222222222,\"#7201a8\"],[0.3333333333333333,\"#9c179e\"],[0.4444444444444444,\"#bd3786\"],[0.5555555555555556,\"#d8576b\"],[0.6666666666666666,\"#ed7953\"],[0.7777777777777778,\"#fb9f3a\"],[0.8888888888888888,\"#fdca26\"],[1.0,\"#f0f921\"]],\"type\":\"histogram2dcontour\"}],\"histogram2d\":[{\"colorbar\":{\"outlinewidth\":0,\"ticks\":\"\"},\"colorscale\":[[0.0,\"#0d0887\"],[0.1111111111111111,\"#46039f\"],[0.2222222222222222,\"#7201a8\"],[0.3333333333333333,\"#9c179e\"],[0.4444444444444444,\"#bd3786\"],[0.5555555555555556,\"#d8576b\"],[0.6666666666666666,\"#ed7953\"],[0.7777777777777778,\"#fb9f3a\"],[0.8888888888888888,\"#fdca26\"],[1.0,\"#f0f921\"]],\"type\":\"histogram2d\"}],\"histogram\":[{\"marker\":{\"pattern\":{\"fillmode\":\"overlay\",\"size\":10,\"solidity\":0.2}},\"type\":\"histogram\"}],\"mesh3d\":[{\"colorbar\":{\"outlinewidth\":0,\"ticks\":\"\"},\"type\":\"mesh3d\"}],\"parcoords\":[{\"line\":{\"colorbar\":{\"outlinewidth\":0,\"ticks\":\"\"}},\"type\":\"parcoords\"}],\"pie\":[{\"automargin\":true,\"type\":\"pie\"}],\"scatter3d\":[{\"line\":{\"colorbar\":{\"outlinewidth\":0,\"ticks\":\"\"}},\"marker\":{\"colorbar\":{\"outlinewidth\":0,\"ticks\":\"\"}},\"type\":\"scatter3d\"}],\"scattercarpet\":[{\"marker\":{\"colorbar\":{\"outlinewidth\":0,\"ticks\":\"\"}},\"type\":\"scattercarpet\"}],\"scattergeo\":[{\"marker\":{\"colorbar\":{\"outlinewidth\":0,\"ticks\":\"\"}},\"type\":\"scattergeo\"}],\"scattergl\":[{\"marker\":{\"line\":{\"color\":\"#283442\"}},\"type\":\"scattergl\"}],\"scattermapbox\":[{\"marker\":{\"colorbar\":{\"outlinewidth\":0,\"ticks\":\"\"}},\"type\":\"scattermapbox\"}],\"scatterpolargl\":[{\"marker\":{\"colorbar\":{\"outlinewidth\":0,\"ticks\":\"\"}},\"type\":\"scatterpolargl\"}],\"scatterpolar\":[{\"marker\":{\"colorbar\":{\"outlinewidth\":0,\"ticks\":\"\"}},\"type\":\"scatterpolar\"}],\"scatter\":[{\"marker\":{\"line\":{\"color\":\"#283442\"}},\"type\":\"scatter\"}],\"scatterternary\":[{\"marker\":{\"colorbar\":{\"outlinewidth\":0,\"ticks\":\"\"}},\"type\":\"scatterternary\"}],\"surface\":[{\"colorbar\":{\"outlinewidth\":0,\"ticks\":\"\"},\"colorscale\":[[0.0,\"#0d0887\"],[0.1111111111111111,\"#46039f\"],[0.2222222222222222,\"#7201a8\"],[0.3333333333333333,\"#9c179e\"],[0.4444444444444444,\"#bd3786\"],[0.5555555555555556,\"#d8576b\"],[0.6666666666666666,\"#ed7953\"],[0.7777777777777778,\"#fb9f3a\"],[0.8888888888888888,\"#fdca26\"],[1.0,\"#f0f921\"]],\"type\":\"surface\"}],\"table\":[{\"cells\":{\"fill\":{\"color\":\"#506784\"},\"line\":{\"color\":\"rgb(17,17,17)\"}},\"header\":{\"fill\":{\"color\":\"#2a3f5f\"},\"line\":{\"color\":\"rgb(17,17,17)\"}},\"type\":\"table\"}]},\"layout\":{\"annotationdefaults\":{\"arrowcolor\":\"#f2f5fa\",\"arrowhead\":0,\"arrowwidth\":1},\"autotypenumbers\":\"strict\",\"coloraxis\":{\"colorbar\":{\"outlinewidth\":0,\"ticks\":\"\"}},\"colorscale\":{\"diverging\":[[0,\"#8e0152\"],[0.1,\"#c51b7d\"],[0.2,\"#de77ae\"],[0.3,\"#f1b6da\"],[0.4,\"#fde0ef\"],[0.5,\"#f7f7f7\"],[0.6,\"#e6f5d0\"],[0.7,\"#b8e186\"],[0.8,\"#7fbc41\"],[0.9,\"#4d9221\"],[1,\"#276419\"]],\"sequential\":[[0.0,\"#0d0887\"],[0.1111111111111111,\"#46039f\"],[0.2222222222222222,\"#7201a8\"],[0.3333333333333333,\"#9c179e\"],[0.4444444444444444,\"#bd3786\"],[0.5555555555555556,\"#d8576b\"],[0.6666666666666666,\"#ed7953\"],[0.7777777777777778,\"#fb9f3a\"],[0.8888888888888888,\"#fdca26\"],[1.0,\"#f0f921\"]],\"sequentialminus\":[[0.0,\"#0d0887\"],[0.1111111111111111,\"#46039f\"],[0.2222222222222222,\"#7201a8\"],[0.3333333333333333,\"#9c179e\"],[0.4444444444444444,\"#bd3786\"],[0.5555555555555556,\"#d8576b\"],[0.6666666666666666,\"#ed7953\"],[0.7777777777777778,\"#fb9f3a\"],[0.8888888888888888,\"#fdca26\"],[1.0,\"#f0f921\"]]},\"colorway\":[\"#636efa\",\"#EF553B\",\"#00cc96\",\"#ab63fa\",\"#FFA15A\",\"#19d3f3\",\"#FF6692\",\"#B6E880\",\"#FF97FF\",\"#FECB52\"],\"font\":{\"color\":\"#f2f5fa\"},\"geo\":{\"bgcolor\":\"rgb(17,17,17)\",\"lakecolor\":\"rgb(17,17,17)\",\"landcolor\":\"rgb(17,17,17)\",\"showlakes\":true,\"showland\":true,\"subunitcolor\":\"#506784\"},\"hoverlabel\":{\"align\":\"left\"},\"hovermode\":\"closest\",\"mapbox\":{\"style\":\"dark\"},\"paper_bgcolor\":\"rgb(17,17,17)\",\"plot_bgcolor\":\"rgb(17,17,17)\",\"polar\":{\"angularaxis\":{\"gridcolor\":\"#506784\",\"linecolor\":\"#506784\",\"ticks\":\"\"},\"bgcolor\":\"rgb(17,17,17)\",\"radialaxis\":{\"gridcolor\":\"#506784\",\"linecolor\":\"#506784\",\"ticks\":\"\"}},\"scene\":{\"xaxis\":{\"backgroundcolor\":\"rgb(17,17,17)\",\"gridcolor\":\"#506784\",\"gridwidth\":2,\"linecolor\":\"#506784\",\"showbackground\":true,\"ticks\":\"\",\"zerolinecolor\":\"#C8D4E3\"},\"yaxis\":{\"backgroundcolor\":\"rgb(17,17,17)\",\"gridcolor\":\"#506784\",\"gridwidth\":2,\"linecolor\":\"#506784\",\"showbackground\":true,\"ticks\":\"\",\"zerolinecolor\":\"#C8D4E3\"},\"zaxis\":{\"backgroundcolor\":\"rgb(17,17,17)\",\"gridcolor\":\"#506784\",\"gridwidth\":2,\"linecolor\":\"#506784\",\"showbackground\":true,\"ticks\":\"\",\"zerolinecolor\":\"#C8D4E3\"}},\"shapedefaults\":{\"line\":{\"color\":\"#f2f5fa\"}},\"sliderdefaults\":{\"bgcolor\":\"#C8D4E3\",\"bordercolor\":\"rgb(17,17,17)\",\"borderwidth\":1,\"tickwidth\":0},\"ternary\":{\"aaxis\":{\"gridcolor\":\"#506784\",\"linecolor\":\"#506784\",\"ticks\":\"\"},\"baxis\":{\"gridcolor\":\"#506784\",\"linecolor\":\"#506784\",\"ticks\":\"\"},\"bgcolor\":\"rgb(17,17,17)\",\"caxis\":{\"gridcolor\":\"#506784\",\"linecolor\":\"#506784\",\"ticks\":\"\"}},\"title\":{\"x\":0.05},\"updatemenudefaults\":{\"bgcolor\":\"#506784\",\"borderwidth\":0},\"xaxis\":{\"automargin\":true,\"gridcolor\":\"#283442\",\"linecolor\":\"#506784\",\"ticks\":\"\",\"title\":{\"standoff\":15},\"zerolinecolor\":\"#283442\",\"zerolinewidth\":2},\"yaxis\":{\"automargin\":true,\"gridcolor\":\"#283442\",\"linecolor\":\"#506784\",\"ticks\":\"\",\"title\":{\"standoff\":15},\"zerolinecolor\":\"#283442\",\"zerolinewidth\":2}}},\"xaxis\":{\"anchor\":\"y\",\"domain\":[0.0,1.0],\"title\":{\"text\":\"Countries\"}},\"yaxis\":{\"anchor\":\"x\",\"domain\":[0.0,1.0],\"title\":{\"text\":\"Population\"}},\"legend\":{\"title\":{\"text\":\"color\"},\"tracegroupgap\":0},\"title\":{\"text\":\"Top 10 Countries with the most population\"},\"barmode\":\"relative\",\"font\":{\"size\":15,\"family\":\"Franklin Gothic\"}},                        {\"responsive\": true}                    ).then(function(){\n",
              "                            \n",
              "var gd = document.getElementById('4053ea2f-27d8-441c-9584-fb38c2bfd5ba');\n",
              "var x = new MutationObserver(function (mutations, observer) {{\n",
              "        var display = window.getComputedStyle(gd).display;\n",
              "        if (!display || display === 'none') {{\n",
              "            console.log([gd, 'removed!']);\n",
              "            Plotly.purge(gd);\n",
              "            observer.disconnect();\n",
              "        }}\n",
              "}});\n",
              "\n",
              "// Listen for the removal of the full notebook cells\n",
              "var notebookContainer = gd.closest('#notebook-container');\n",
              "if (notebookContainer) {{\n",
              "    x.observe(notebookContainer, {childList: true});\n",
              "}}\n",
              "\n",
              "// Listen for the clearing of the current output cell\n",
              "var outputEl = gd.closest('.output');\n",
              "if (outputEl) {{\n",
              "    x.observe(outputEl, {childList: true});\n",
              "}}\n",
              "\n",
              "                        })                };                });            </script>        </div>"
            ]
          },
          "metadata": {}
        }
      ]
    },
    {
      "cell_type": "code",
      "source": [
        "# Filter out only numeric columns\n",
        "numeric_features = df.select_dtypes(include='number').columns\n",
        "\n",
        "# Group by 'Continent' and calculate the mean of numeric features\n",
        "continent = df.groupby('Continent')[numeric_features].mean()\n",
        "\n",
        "# Sort the resulting DataFrame by '2022 Population'\n",
        "continent.sort_values(by='2022 Population', inplace=True)"
      ],
      "metadata": {
        "id": "58ZdPWzZdOZm"
      },
      "execution_count": 123,
      "outputs": []
    },
    {
      "cell_type": "code",
      "source": [
        "population_features = ['2022 Population','2020 Population','2015 Population','2010 Population','2000 Population','1990 Population','1980 Population','1970 Population']"
      ],
      "metadata": {
        "id": "GRjn0cgFdX2K"
      },
      "execution_count": 124,
      "outputs": []
    },
    {
      "cell_type": "code",
      "source": [
        "population_features.reverse()\n",
        "plt.figure(figsize=(25,10))\n",
        "for feature in population_features:\n",
        "    plt.plot(continent[feature],label = feature)\n",
        "plt.legend()\n",
        "plt.title('Year-to-year population change of continents', size=25);\n",
        "plt.show();"
      ],
      "metadata": {
        "colab": {
          "base_uri": "https://localhost:8080/",
          "height": 765
        },
        "id": "Q2omrs2Pda_w",
        "outputId": "289a9e7f-318b-4d4e-c8a5-f7963d7fa14c"
      },
      "execution_count": 125,
      "outputs": [
        {
          "output_type": "display_data",
          "data": {
            "text/plain": [
              "<Figure size 2500x1000 with 1 Axes>"
            ],
            "image/png": "[encoded data removed]"
          },
          "metadata": {}
        }
      ]
    },
    {
      "cell_type": "markdown",
      "source": [
        "## - La población mundial está creciendo año tras año (sin señales de disminución). Según las estimaciones actuales de crecimiento poblacional, la Tierra estará **superpoblada** para 2050 o antes.\n",
        "\n",
        "## - **China e India** son los dos países con la mayor población del mundo (cada uno tiene más de 1.4 mil millones de personas).\n",
        "\n",
        "## - **Ucrania** tiene la tasa de crecimiento poblacional más baja (0.912), mientras que **Moldavia** (el país vecino de Ucrania) tiene la tasa de crecimiento más alta (1.0691).\n",
        "\n",
        "## - **Macao** es el país más densamente poblado del mundo (23,172.27 por km²), mientras que su área es de solo 20 km².\n",
        "\n",
        "## - **El continente africano** tiene la tasa de crecimiento más alta en comparación con otros continentes."
      ],
      "metadata": {
        "id": "F3sznGGOeDMP"
      }
    }
  ]
}